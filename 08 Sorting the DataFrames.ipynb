{
 "cells": [
  {
   "cell_type": "code",
   "execution_count": 7,
   "id": "a7c8cd00",
   "metadata": {},
   "outputs": [],
   "source": [
    "# Both sort and orderBy are synonymous . They both have sort function inside of it"
   ]
  },
  {
   "cell_type": "code",
   "execution_count": 1,
   "id": "63573294",
   "metadata": {},
   "outputs": [
    {
     "name": "stderr",
     "output_type": "stream",
     "text": [
      "WARNING: An illegal reflective access operation has occurred\n",
      "WARNING: Illegal reflective access by org.apache.spark.unsafe.Platform (file:/Users/manideep/miniconda3/lib/python3.9/site-packages/pyspark/jars/spark-unsafe_2.12-3.2.1.jar) to constructor java.nio.DirectByteBuffer(long,int)\n",
      "WARNING: Please consider reporting this to the maintainers of org.apache.spark.unsafe.Platform\n",
      "WARNING: Use --illegal-access=warn to enable warnings of further illegal reflective access operations\n",
      "WARNING: All illegal access operations will be denied in a future release\n",
      "Using Spark's default log4j profile: org/apache/spark/log4j-defaults.properties\n",
      "Setting default log level to \"WARN\".\n",
      "To adjust logging level use sc.setLogLevel(newLevel). For SparkR, use setLogLevel(newLevel).\n",
      "23/07/01 15:53:52 WARN NativeCodeLoader: Unable to load native-hadoop library for your platform... using builtin-java classes where applicable\n",
      "23/07/01 15:53:53 WARN Utils: Service 'SparkUI' could not bind on port 4040. Attempting port 4041.\n",
      "23/07/01 15:53:53 WARN Utils: Service 'SparkUI' could not bind on port 4041. Attempting port 4042.\n",
      "                                                                                \r"
     ]
    },
    {
     "name": "stdout",
     "output_type": "stream",
     "text": [
      "+---+----------+------------+--------------------+--------------------+-------+-----------+-----------+-------------+-------------------+\n",
      "| id|first_name|   last_name|               email|       phone_numbers|courses|is_customer|amount_paid|customer_from|    last_updated_ts|\n",
      "+---+----------+------------+--------------------+--------------------+-------+-----------+-----------+-------------+-------------------+\n",
      "|  1|    Corrie|Van den Oord|cvandenoord0@etsy...|{+1 234 567 8901,...| [1, 2]|       true|    1000.55|   2021-01-15|2021-02-10 01:15:00|\n",
      "|  2|  Nikolaus|     Brewitt|nbrewitt1@dailyma...|{+1 234 567 8923,...|    [3]|       true|      900.0|   2021-02-14|2021-02-18 03:33:00|\n",
      "|  3|    Orelie|      Penney|openney2@vistapri...|{+1 714 512 9752,...| [2, 4]|       true|     850.55|   2021-01-21|2021-03-15 15:16:55|\n",
      "|  4|     Ashby|    Maddocks|  amaddocks3@home.pl|        {null, null}|     []|      false|        NaN|         null|2021-04-10 17:45:30|\n",
      "|  5|      Kurt|        Rome|krome4@shutterfly...|{+1 817 934 7142,...|     []|      false|        NaN|         null|2021-04-02 00:55:18|\n",
      "+---+----------+------------+--------------------+--------------------+-------+-----------+-----------+-------------+-------------------+\n",
      "\n"
     ]
    },
    {
     "name": "stderr",
     "output_type": "stream",
     "text": [
      "23/07/01 20:45:52 WARN HeartbeatReceiver: Removing executor driver with no recent heartbeats: 7177262 ms exceeds timeout 120000 ms\n",
      "23/07/01 20:45:52 WARN SparkContext: Killing executors is not supported by current scheduler.\n"
     ]
    }
   ],
   "source": [
    "from pyspark.sql import Row\n",
    "     \n",
    "from pyspark.sql import SparkSession\n",
    "spark = SparkSession.builder.appName('SparkByExamples.com').getOrCreate()\n",
    "\n",
    "\n",
    "import datetime\n",
    "users = [\n",
    "    {\n",
    "        \"id\": 1,\n",
    "        \"first_name\": \"Corrie\",\n",
    "        \"last_name\": \"Van den Oord\",\n",
    "        \"email\": \"cvandenoord0@etsy.com\",\n",
    "        \"phone_numbers\": Row(mobile=\"+1 234 567 8901\", home=\"+1 234 567 8911\"),\n",
    "        \"courses\": [1, 2],\n",
    "        \"is_customer\": True,\n",
    "        \"amount_paid\": 1000.55,\n",
    "        \"customer_from\": datetime.date(2021, 1, 15),\n",
    "        \"last_updated_ts\": datetime.datetime(2021, 2, 10, 1, 15, 0)\n",
    "    },\n",
    "    {\n",
    "        \"id\": 2,\n",
    "        \"first_name\": \"Nikolaus\",\n",
    "        \"last_name\": \"Brewitt\",\n",
    "        \"email\": \"nbrewitt1@dailymail.co.uk\",\n",
    "        \"phone_numbers\":  Row(mobile=\"+1 234 567 8923\", home=\"1 234 567 8934\"),\n",
    "        \"courses\": [3],\n",
    "        \"is_customer\": True,\n",
    "        \"amount_paid\": 900.0,\n",
    "        \"customer_from\": datetime.date(2021, 2, 14),\n",
    "        \"last_updated_ts\": datetime.datetime(2021, 2, 18, 3, 33, 0)\n",
    "    },\n",
    "    {\n",
    "        \"id\": 3,\n",
    "        \"first_name\": \"Orelie\",\n",
    "        \"last_name\": \"Penney\",\n",
    "        \"email\": \"openney2@vistaprint.com\",\n",
    "        \"phone_numbers\": Row(mobile=\"+1 714 512 9752\", home=\"+1 714 512 6601\"),\n",
    "        \"courses\": [2, 4],\n",
    "        \"is_customer\": True,\n",
    "        \"amount_paid\": 850.55,\n",
    "        \"customer_from\": datetime.date(2021, 1, 21),\n",
    "        \"last_updated_ts\": datetime.datetime(2021, 3, 15, 15, 16, 55)\n",
    "    },\n",
    "    {\n",
    "        \"id\": 4,\n",
    "        \"first_name\": \"Ashby\",\n",
    "        \"last_name\": \"Maddocks\",\n",
    "        \"email\": \"amaddocks3@home.pl\",\n",
    "        \"phone_numbers\": Row(mobile=None, home=None),\n",
    "        \"courses\": [],\n",
    "        \"is_customer\": False,\n",
    "        \"amount_paid\": None,\n",
    "        \"customer_from\": None,\n",
    "        \"last_updated_ts\": datetime.datetime(2021, 4, 10, 17, 45, 30)\n",
    "    },\n",
    "    {\n",
    "        \"id\": 5,\n",
    "        \"first_name\": \"Kurt\",\n",
    "        \"last_name\": \"Rome\",\n",
    "        \"email\": \"krome4@shutterfly.com\",\n",
    "        \"phone_numbers\": Row(mobile=\"+1 817 934 7142\", home=None),\n",
    "        \"courses\": [],\n",
    "        \"is_customer\": False,\n",
    "        \"amount_paid\": None,\n",
    "        \"customer_from\": None,\n",
    "        \"last_updated_ts\": datetime.datetime(2021, 4, 2, 0, 55, 18)\n",
    "    }\n",
    "]\n",
    "     \n",
    "\n",
    "import pandas as pd\n",
    "     \n",
    "\n",
    "spark.conf.set('spark.sql.execution.arrow.pyspark.enabled', False)\n",
    "     \n",
    "\n",
    "users_df = spark.createDataFrame(pd.DataFrame(users))\n",
    "     \n",
    "\n",
    "users_df.show()"
   ]
  },
  {
   "cell_type": "code",
   "execution_count": 4,
   "id": "b9341ec7",
   "metadata": {},
   "outputs": [],
   "source": [
    "# The sorting scenarios which we should be familiar with.\n",
    "\n",
    "        # Sort a data frame using ascending order by a specific column.\n",
    "\n",
    "        # Sort a data frame using descending order by a specific column.\n",
    "\n",
    "        # Dealing with nulls while sorting the data (having the null values at the beginning or at the end).\n",
    "\n",
    "         # Sort a data frame using multiple columns (composite sorting). we get 4 variations of sorting as below\n",
    "            \n",
    "#                   We also need to be aware of how to sort the data in ascending order by first column and then descending order by second column as well as vice versa.\n",
    "\n",
    "        # We also need to make sure how to perform prioritized sorting. For example, let's say we want to get USA at the top and rest of the countries in ascending order by their respective names."
   ]
  },
  {
   "cell_type": "code",
   "execution_count": 5,
   "id": "9700d2db",
   "metadata": {},
   "outputs": [
    {
     "name": "stdout",
     "output_type": "stream",
     "text": [
      "Help on method sort in module pyspark.sql.dataframe:\n",
      "\n",
      "sort(*cols, **kwargs) method of pyspark.sql.dataframe.DataFrame instance\n",
      "    Returns a new :class:`DataFrame` sorted by the specified column(s).\n",
      "    \n",
      "    .. versionadded:: 1.3.0\n",
      "    \n",
      "    Parameters\n",
      "    ----------\n",
      "    cols : str, list, or :class:`Column`, optional\n",
      "         list of :class:`Column` or column names to sort by.\n",
      "    \n",
      "    Other Parameters\n",
      "    ----------------\n",
      "    ascending : bool or list, optional\n",
      "        boolean or list of boolean (default ``True``).\n",
      "        Sort ascending vs. descending. Specify list for multiple sort orders.\n",
      "        If a list is specified, length of the list must equal length of the `cols`.\n",
      "    \n",
      "    Examples\n",
      "    --------\n",
      "    >>> df.sort(df.age.desc()).collect()\n",
      "    [Row(age=5, name='Bob'), Row(age=2, name='Alice')]\n",
      "    >>> df.sort(\"age\", ascending=False).collect()\n",
      "    [Row(age=5, name='Bob'), Row(age=2, name='Alice')]\n",
      "    >>> df.orderBy(df.age.desc()).collect()\n",
      "    [Row(age=5, name='Bob'), Row(age=2, name='Alice')]\n",
      "    >>> from pyspark.sql.functions import *\n",
      "    >>> df.sort(asc(\"age\")).collect()\n",
      "    [Row(age=2, name='Alice'), Row(age=5, name='Bob')]\n",
      "    >>> df.orderBy(desc(\"age\"), \"name\").collect()\n",
      "    [Row(age=5, name='Bob'), Row(age=2, name='Alice')]\n",
      "    >>> df.orderBy([\"age\", \"name\"], ascending=[0, 1]).collect()\n",
      "    [Row(age=5, name='Bob'), Row(age=2, name='Alice')]\n",
      "\n"
     ]
    }
   ],
   "source": [
    "help(users_df.sort)"
   ]
  },
  {
   "cell_type": "code",
   "execution_count": 6,
   "id": "15bb11e6",
   "metadata": {},
   "outputs": [
    {
     "name": "stdout",
     "output_type": "stream",
     "text": [
      "Help on method sort in module pyspark.sql.dataframe:\n",
      "\n",
      "sort(*cols, **kwargs) method of pyspark.sql.dataframe.DataFrame instance\n",
      "    Returns a new :class:`DataFrame` sorted by the specified column(s).\n",
      "    \n",
      "    .. versionadded:: 1.3.0\n",
      "    \n",
      "    Parameters\n",
      "    ----------\n",
      "    cols : str, list, or :class:`Column`, optional\n",
      "         list of :class:`Column` or column names to sort by.\n",
      "    \n",
      "    Other Parameters\n",
      "    ----------------\n",
      "    ascending : bool or list, optional\n",
      "        boolean or list of boolean (default ``True``).\n",
      "        Sort ascending vs. descending. Specify list for multiple sort orders.\n",
      "        If a list is specified, length of the list must equal length of the `cols`.\n",
      "    \n",
      "    Examples\n",
      "    --------\n",
      "    >>> df.sort(df.age.desc()).collect()\n",
      "    [Row(age=5, name='Bob'), Row(age=2, name='Alice')]\n",
      "    >>> df.sort(\"age\", ascending=False).collect()\n",
      "    [Row(age=5, name='Bob'), Row(age=2, name='Alice')]\n",
      "    >>> df.orderBy(df.age.desc()).collect()\n",
      "    [Row(age=5, name='Bob'), Row(age=2, name='Alice')]\n",
      "    >>> from pyspark.sql.functions import *\n",
      "    >>> df.sort(asc(\"age\")).collect()\n",
      "    [Row(age=2, name='Alice'), Row(age=5, name='Bob')]\n",
      "    >>> df.orderBy(desc(\"age\"), \"name\").collect()\n",
      "    [Row(age=5, name='Bob'), Row(age=2, name='Alice')]\n",
      "    >>> df.orderBy([\"age\", \"name\"], ascending=[0, 1]).collect()\n",
      "    [Row(age=5, name='Bob'), Row(age=2, name='Alice')]\n",
      "\n"
     ]
    }
   ],
   "source": [
    "help(users_df.orderBy)"
   ]
  },
  {
   "cell_type": "code",
   "execution_count": 8,
   "id": "1857351b",
   "metadata": {},
   "outputs": [
    {
     "data": {
      "text/plain": [
       "Column<'id DESC NULLS LAST'>"
      ]
     },
     "execution_count": 8,
     "metadata": {},
     "output_type": "execute_result"
    }
   ],
   "source": [
    "users_df.id.desc() # -> gives a column object\n",
    "\n",
    "## 0 -> descending, 1-> ascending"
   ]
  },
  {
   "cell_type": "markdown",
   "id": "620f5c64",
   "metadata": {},
   "source": [
    "## Ascending Order"
   ]
  },
  {
   "cell_type": "code",
   "execution_count": 10,
   "id": "70fb534b",
   "metadata": {},
   "outputs": [],
   "source": [
    "\n",
    "\n",
    "## Sort the users data in ascending order by first_name\n",
    "\n"
   ]
  },
  {
   "cell_type": "code",
   "execution_count": 17,
   "id": "0e8884d4",
   "metadata": {},
   "outputs": [
    {
     "name": "stdout",
     "output_type": "stream",
     "text": [
      "+---+----------+\n",
      "| id|first_name|\n",
      "+---+----------+\n",
      "|  4|     Ashby|\n",
      "|  1|    Corrie|\n",
      "|  5|      Kurt|\n",
      "|  2|  Nikolaus|\n",
      "|  3|    Orelie|\n",
      "+---+----------+\n",
      "\n"
     ]
    }
   ],
   "source": [
    "users_df.select(\"id\",\"first_name\").sort(\"first_name\",ascending = True).show()\n",
    "\n",
    "# or - default value of ascending = True\n",
    "\n",
    "# users_df.select(\"id\",\"first_name\").sort(users_df.first_name).show()\n",
    "\n",
    "# or\n",
    "\n",
    "\n",
    "# users_df.select(\"id\",\"first_name\").sort(users_df[\"first_name\"]).show()"
   ]
  },
  {
   "cell_type": "code",
   "execution_count": 20,
   "id": "cff15999",
   "metadata": {},
   "outputs": [
    {
     "name": "stdout",
     "output_type": "stream",
     "text": [
      "+---+----------+\n",
      "| id|first_name|\n",
      "+---+----------+\n",
      "|  4|     Ashby|\n",
      "|  1|    Corrie|\n",
      "|  5|      Kurt|\n",
      "|  2|  Nikolaus|\n",
      "|  3|    Orelie|\n",
      "+---+----------+\n",
      "\n"
     ]
    }
   ],
   "source": [
    "from pyspark.sql.functions import col\n",
    "\n",
    "users_df.select(\"id\",\"first_name\").sort(col(\"first_name\")).show()"
   ]
  },
  {
   "cell_type": "code",
   "execution_count": 44,
   "id": "e9476c51",
   "metadata": {},
   "outputs": [],
   "source": [
    "# Sort the users data in ascending order by customer_from."
   ]
  },
  {
   "cell_type": "code",
   "execution_count": 48,
   "id": "63a7e6ba",
   "metadata": {},
   "outputs": [
    {
     "name": "stdout",
     "output_type": "stream",
     "text": [
      "+---+-------------+\n",
      "| id|customer_from|\n",
      "+---+-------------+\n",
      "|  4|         null|\n",
      "|  5|         null|\n",
      "|  1|   2021-01-15|\n",
      "|  3|   2021-01-21|\n",
      "|  2|   2021-02-14|\n",
      "+---+-------------+\n",
      "\n",
      "+---+-------------+\n",
      "| id|customer_from|\n",
      "+---+-------------+\n",
      "|  5|         null|\n",
      "|  4|         null|\n",
      "|  1|   2021-01-15|\n",
      "|  3|   2021-01-21|\n",
      "|  2|   2021-02-14|\n",
      "+---+-------------+\n",
      "\n"
     ]
    }
   ],
   "source": [
    "users_df.select(\"id\",\"customer_from\").sort([\"customer_from\"]).show()\n",
    "\n",
    "users_df.select(\"id\",\"customer_from\").sort(col(\"customer_from\").asc()).show()"
   ]
  },
  {
   "cell_type": "code",
   "execution_count": 47,
   "id": "c7fdba74",
   "metadata": {},
   "outputs": [],
   "source": [
    "# Sort the data in ascending order by number of enrolled courses."
   ]
  },
  {
   "cell_type": "code",
   "execution_count": 25,
   "id": "fe496ea4",
   "metadata": {},
   "outputs": [
    {
     "name": "stdout",
     "output_type": "stream",
     "text": [
      "root\n",
      " |-- id: long (nullable = true)\n",
      " |-- first_name: string (nullable = true)\n",
      " |-- last_name: string (nullable = true)\n",
      " |-- email: string (nullable = true)\n",
      " |-- phone_numbers: struct (nullable = true)\n",
      " |    |-- mobile: string (nullable = true)\n",
      " |    |-- home: string (nullable = true)\n",
      " |-- courses: array (nullable = true)\n",
      " |    |-- element: long (containsNull = true)\n",
      " |-- is_customer: boolean (nullable = true)\n",
      " |-- amount_paid: double (nullable = true)\n",
      " |-- customer_from: date (nullable = true)\n",
      " |-- last_updated_ts: timestamp (nullable = true)\n",
      "\n"
     ]
    }
   ],
   "source": [
    "users_df.printSchema()"
   ]
  },
  {
   "cell_type": "code",
   "execution_count": 45,
   "id": "7de1608a",
   "metadata": {},
   "outputs": [
    {
     "name": "stdout",
     "output_type": "stream",
     "text": [
      "+---+-------+-------------+\n",
      "| id|courses|total_courses|\n",
      "+---+-------+-------------+\n",
      "|  4|     []|            2|\n",
      "|  5|     []|            2|\n",
      "|  2|    [3]|            3|\n",
      "|  1| [1, 2]|            6|\n",
      "|  3| [2, 4]|            6|\n",
      "+---+-------+-------------+\n",
      "\n"
     ]
    }
   ],
   "source": [
    "from pyspark.sql.functions import length,lit\n",
    "\n",
    "\n",
    "# Inorder to find length of array, have to use size\n",
    "\n",
    "users_df.select(\"id\",\"courses\",lit(length(col(\"courses\").cast(\"string\"))).alias(\"total_courses\")).sort(\"total_courses\").show()"
   ]
  },
  {
   "cell_type": "code",
   "execution_count": 46,
   "id": "44cf3476",
   "metadata": {},
   "outputs": [
    {
     "name": "stdout",
     "output_type": "stream",
     "text": [
      "Help on function length in module pyspark.sql.functions:\n",
      "\n",
      "length(col)\n",
      "    Computes the character length of string data or number of bytes of binary data.\n",
      "    The length of character data includes the trailing spaces. The length of binary data\n",
      "    includes binary zeros.\n",
      "    \n",
      "    .. versionadded:: 1.5.0\n",
      "    \n",
      "    Examples\n",
      "    --------\n",
      "    >>> spark.createDataFrame([('ABC ',)], ['a']).select(length('a').alias('length')).collect()\n",
      "    [Row(length=4)]\n",
      "\n"
     ]
    }
   ],
   "source": [
    "help(length)\n",
    "\n",
    "# This is only for strings\n",
    "\n",
    "# Inorder to find length of array, have to use size"
   ]
  },
  {
   "cell_type": "code",
   "execution_count": 39,
   "id": "90c65fea",
   "metadata": {},
   "outputs": [
    {
     "name": "stdout",
     "output_type": "stream",
     "text": [
      "+---+-------+-------------+\n",
      "| id|courses|total_courses|\n",
      "+---+-------+-------------+\n",
      "|  5|     []|            0|\n",
      "|  4|     []|            0|\n",
      "|  2|    [3]|            1|\n",
      "|  3| [2, 4]|            2|\n",
      "|  1| [1, 2]|            2|\n",
      "+---+-------+-------------+\n",
      "\n"
     ]
    }
   ],
   "source": [
    "\n",
    "\n",
    "# Inorder to find length of array, have to use size\n",
    "\n",
    "from pyspark.sql.functions import size\n",
    "\n",
    "users_df.select(\"id\",\"courses\",\n",
    "                size(\"courses\").alias(\"total_courses\")).\\\n",
    "        sort(\"total_courses\").show()\n",
    "\n",
    "# or\n",
    "\n",
    "# users_df. \\\n",
    "#     select('id', 'courses'). \\\n",
    "#     withColumn('no_of_courses', size('courses')). \\\n",
    "#     sort(size('courses')).show()"
   ]
  },
  {
   "cell_type": "markdown",
   "id": "b6daa46b",
   "metadata": {},
   "source": [
    "## Descending Order"
   ]
  },
  {
   "cell_type": "code",
   "execution_count": 40,
   "id": "7760a65f",
   "metadata": {},
   "outputs": [],
   "source": [
    "## Sort the data in descending order by first_name"
   ]
  },
  {
   "cell_type": "code",
   "execution_count": 41,
   "id": "604a2745",
   "metadata": {},
   "outputs": [
    {
     "name": "stdout",
     "output_type": "stream",
     "text": [
      "+---+----------+\n",
      "| id|first_name|\n",
      "+---+----------+\n",
      "|  3|    Orelie|\n",
      "|  2|  Nikolaus|\n",
      "|  5|      Kurt|\n",
      "|  1|    Corrie|\n",
      "|  4|     Ashby|\n",
      "+---+----------+\n",
      "\n"
     ]
    }
   ],
   "source": [
    "users_df.select(\"id\",\"first_name\").sort(\"first_name\",ascending=False).show()\n",
    "\n",
    "#  users_df.sort(users_df['first_name'], ascending=False).show()\n"
   ]
  },
  {
   "cell_type": "code",
   "execution_count": 43,
   "id": "5e4e9975",
   "metadata": {},
   "outputs": [
    {
     "name": "stdout",
     "output_type": "stream",
     "text": [
      "+---+----------+\n",
      "| id|first_name|\n",
      "+---+----------+\n",
      "|  3|    Orelie|\n",
      "|  2|  Nikolaus|\n",
      "|  5|      Kurt|\n",
      "|  1|    Corrie|\n",
      "|  4|     Ashby|\n",
      "+---+----------+\n",
      "\n"
     ]
    }
   ],
   "source": [
    "users_df.select(\"id\",\"first_name\").\\\n",
    "        sort(users_df[\"first_name\"].desc()).\\\n",
    "        show()"
   ]
  },
  {
   "cell_type": "code",
   "execution_count": 50,
   "id": "59092346",
   "metadata": {},
   "outputs": [
    {
     "name": "stdout",
     "output_type": "stream",
     "text": [
      "+---+----------+------------+--------------------+--------------------+-------+-----------+-----------+-------------+-------------------+\n",
      "| id|first_name|   last_name|               email|       phone_numbers|courses|is_customer|amount_paid|customer_from|    last_updated_ts|\n",
      "+---+----------+------------+--------------------+--------------------+-------+-----------+-----------+-------------+-------------------+\n",
      "|  3|    Orelie|      Penney|openney2@vistapri...|{+1 714 512 9752,...| [2, 4]|       true|     850.55|   2021-01-21|2021-03-15 15:16:55|\n",
      "|  2|  Nikolaus|     Brewitt|nbrewitt1@dailyma...|{+1 234 567 8923,...|    [3]|       true|      900.0|   2021-02-14|2021-02-18 03:33:00|\n",
      "|  5|      Kurt|        Rome|krome4@shutterfly...|{+1 817 934 7142,...|     []|      false|        NaN|         null|2021-04-02 00:55:18|\n",
      "|  1|    Corrie|Van den Oord|cvandenoord0@etsy...|{+1 234 567 8901,...| [1, 2]|       true|    1000.55|   2021-01-15|2021-02-10 01:15:00|\n",
      "|  4|     Ashby|    Maddocks|  amaddocks3@home.pl|        {null, null}|     []|      false|        NaN|         null|2021-04-10 17:45:30|\n",
      "+---+----------+------------+--------------------+--------------------+-------+-----------+-----------+-------------+-------------------+\n",
      "\n"
     ]
    }
   ],
   "source": [
    "from pyspark.sql.functions import desc,asc\n",
    "\n",
    "users_df.sort(desc('first_name')).show()"
   ]
  },
  {
   "cell_type": "code",
   "execution_count": 51,
   "id": "a0a9ab56",
   "metadata": {},
   "outputs": [],
   "source": [
    "## Sort the data in descending order by customer_from."
   ]
  },
  {
   "cell_type": "code",
   "execution_count": 55,
   "id": "3c436605",
   "metadata": {},
   "outputs": [
    {
     "name": "stdout",
     "output_type": "stream",
     "text": [
      "+---+----------+------------+--------------------+--------------------+-------+-----------+-----------+-------------+-------------------+\n",
      "| id|first_name|   last_name|               email|       phone_numbers|courses|is_customer|amount_paid|customer_from|    last_updated_ts|\n",
      "+---+----------+------------+--------------------+--------------------+-------+-----------+-----------+-------------+-------------------+\n",
      "|  2|  Nikolaus|     Brewitt|nbrewitt1@dailyma...|{+1 234 567 8923,...|    [3]|       true|      900.0|   2021-02-14|2021-02-18 03:33:00|\n",
      "|  3|    Orelie|      Penney|openney2@vistapri...|{+1 714 512 9752,...| [2, 4]|       true|     850.55|   2021-01-21|2021-03-15 15:16:55|\n",
      "|  1|    Corrie|Van den Oord|cvandenoord0@etsy...|{+1 234 567 8901,...| [1, 2]|       true|    1000.55|   2021-01-15|2021-02-10 01:15:00|\n",
      "|  5|      Kurt|        Rome|krome4@shutterfly...|{+1 817 934 7142,...|     []|      false|        NaN|         null|2021-04-02 00:55:18|\n",
      "|  4|     Ashby|    Maddocks|  amaddocks3@home.pl|        {null, null}|     []|      false|        NaN|         null|2021-04-10 17:45:30|\n",
      "+---+----------+------------+--------------------+--------------------+-------+-----------+-----------+-------------+-------------------+\n",
      "\n"
     ]
    }
   ],
   "source": [
    "users_df.sort(\"customer_from\",ascending=False).show()\n",
    "\n",
    "# users_df.sort(users_df[\"customer_from\"].desc()).show()\n",
    "\n",
    "# users_df.sort(desc(users_df[\"customer_from\"])).show()"
   ]
  },
  {
   "cell_type": "code",
   "execution_count": null,
   "id": "462e037f",
   "metadata": {},
   "outputs": [],
   "source": []
  },
  {
   "cell_type": "code",
   "execution_count": 57,
   "id": "c9ffe6b8",
   "metadata": {},
   "outputs": [],
   "source": [
    "## Sort the data in descending order by number of enrolled courses."
   ]
  },
  {
   "cell_type": "code",
   "execution_count": 61,
   "id": "094e77f7",
   "metadata": {},
   "outputs": [
    {
     "name": "stdout",
     "output_type": "stream",
     "text": [
      "+---+-------+\n",
      "| id|courses|\n",
      "+---+-------+\n",
      "|  1| [1, 2]|\n",
      "|  3| [2, 4]|\n",
      "|  2|    [3]|\n",
      "|  5|     []|\n",
      "|  4|     []|\n",
      "+---+-------+\n",
      "\n"
     ]
    }
   ],
   "source": [
    "users_df.select(\"id\",\"courses\").sort(size(\"courses\"),ascending=False).show()\n",
    "\n",
    "\n",
    "# users_df. \\\n",
    "#     select('id', 'courses'). \\\n",
    "#     withColumn('no_of_courses', size('courses')). \\\n",
    "#     sort(desc('no_of_courses')). \\\n",
    "#     show()"
   ]
  },
  {
   "cell_type": "code",
   "execution_count": null,
   "id": "114db118",
   "metadata": {},
   "outputs": [],
   "source": []
  },
  {
   "cell_type": "markdown",
   "id": "c9c30512",
   "metadata": {},
   "source": [
    "# Dealing with Nulls"
   ]
  },
  {
   "cell_type": "code",
   "execution_count": 62,
   "id": "6790f908",
   "metadata": {},
   "outputs": [],
   "source": [
    "# Sort the data in ascending order by customer_from (default). "
   ]
  },
  {
   "cell_type": "code",
   "execution_count": 63,
   "id": "edb95d7a",
   "metadata": {},
   "outputs": [],
   "source": [
    "cf = col(\"customer_from\")"
   ]
  },
  {
   "cell_type": "code",
   "execution_count": 64,
   "id": "8998837e",
   "metadata": {},
   "outputs": [],
   "source": [
    "# cf. - click on tab to see various function available on column object"
   ]
  },
  {
   "cell_type": "code",
   "execution_count": 65,
   "id": "82d3cdc4",
   "metadata": {},
   "outputs": [],
   "source": [
    "# we have asc_nulls_first, asc_nulls_last\n",
    "# we have desc_nulls_first, desc_nulls_last\n"
   ]
  },
  {
   "cell_type": "code",
   "execution_count": 66,
   "id": "26932ccb",
   "metadata": {},
   "outputs": [
    {
     "name": "stdout",
     "output_type": "stream",
     "text": [
      "+---+-------------+\n",
      "| id|customer_from|\n",
      "+---+-------------+\n",
      "|  4|         null|\n",
      "|  5|         null|\n",
      "|  1|   2021-01-15|\n",
      "|  3|   2021-01-21|\n",
      "|  2|   2021-02-14|\n",
      "+---+-------------+\n",
      "\n"
     ]
    }
   ],
   "source": [
    "users_df.\\\n",
    "    select(\"id\",\"customer_from\").\\\n",
    "    orderBy(\"customer_from\").show()"
   ]
  },
  {
   "cell_type": "code",
   "execution_count": 74,
   "id": "9c25eb8c",
   "metadata": {},
   "outputs": [
    {
     "name": "stdout",
     "output_type": "stream",
     "text": [
      "+---+-------------+\n",
      "| id|customer_from|\n",
      "+---+-------------+\n",
      "|  1|   2021-01-15|\n",
      "|  3|   2021-01-21|\n",
      "|  2|   2021-02-14|\n",
      "|  4|         null|\n",
      "|  5|         null|\n",
      "+---+-------------+\n",
      "\n",
      "+---+-------------+\n",
      "| id|customer_from|\n",
      "+---+-------------+\n",
      "|  1|   2021-01-15|\n",
      "|  3|   2021-01-21|\n",
      "|  2|   2021-02-14|\n",
      "|  5|         null|\n",
      "|  4|         null|\n",
      "+---+-------------+\n",
      "\n"
     ]
    }
   ],
   "source": [
    "# Sort the data in ascending order by customer_from with null values coming at the end.\n",
    "\n",
    "from pyspark.sql.functions import asc_nulls_last\n",
    "\n",
    "users_df.select(\"id\",\"customer_from\").sort(asc_nulls_last(\"customer_from\")).show()\n",
    "\n",
    "users_df.select(\"id\",\"customer_from\").sort(col(\"customer_from\").asc_nulls_last()).show()"
   ]
  },
  {
   "cell_type": "code",
   "execution_count": 75,
   "id": "60082245",
   "metadata": {},
   "outputs": [],
   "source": [
    "# Sort the data in descending order by customer_from with null values coming at the beginning."
   ]
  },
  {
   "cell_type": "code",
   "execution_count": 80,
   "id": "ce1af939",
   "metadata": {},
   "outputs": [
    {
     "name": "stdout",
     "output_type": "stream",
     "text": [
      "+---+-------------+\n",
      "| id|customer_from|\n",
      "+---+-------------+\n",
      "|  2|   2021-02-14|\n",
      "|  3|   2021-01-21|\n",
      "|  1|   2021-01-15|\n",
      "|  4|         null|\n",
      "|  5|         null|\n",
      "+---+-------------+\n",
      "\n",
      "+---+-------------+\n",
      "| id|customer_from|\n",
      "+---+-------------+\n",
      "|  5|         null|\n",
      "|  4|         null|\n",
      "|  2|   2021-02-14|\n",
      "|  3|   2021-01-21|\n",
      "|  1|   2021-01-15|\n",
      "+---+-------------+\n",
      "\n"
     ]
    }
   ],
   "source": [
    "\n",
    "from pyspark.sql.functions import desc_nulls_first\n",
    "\n",
    "users_df.\\\n",
    "    select(\"id\",\"customer_from\").\\\n",
    "    orderBy(col(\"customer_from\").desc()).show()\n",
    "\n",
    "users_df.\\\n",
    "    select(\"id\",\"customer_from\").\\\n",
    "    orderBy(desc_nulls_first(\"customer_from\")).show()\n",
    "\n"
   ]
  },
  {
   "cell_type": "code",
   "execution_count": null,
   "id": "ee87150d",
   "metadata": {},
   "outputs": [],
   "source": []
  },
  {
   "cell_type": "markdown",
   "id": "e8ae14f1",
   "metadata": {},
   "source": [
    "## Compositer Sorting"
   ]
  },
  {
   "cell_type": "code",
   "execution_count": 81,
   "id": "cbcb103e",
   "metadata": {},
   "outputs": [
    {
     "name": "stdout",
     "output_type": "stream",
     "text": [
      "+---------+--------------------+------------+----------+-----+-----------------+\n",
      "|course_id|         course_name|suitable_for|enrollment|stars|number_of_ratings|\n",
      "+---------+--------------------+------------+----------+-----+-----------------+\n",
      "|        1|2020 Complete Pyt...|    Beginner|   1100093|  4.6|           318066|\n",
      "|        4|Angular - The Com...|Intermediate|    422557|  4.6|           129984|\n",
      "|       12|Automate the Bori...|    Advanced|    692617|  4.6|            70508|\n",
      "|       10|Complete C# Unity...|    Advanced|    364934|  4.6|            78989|\n",
      "|        5|Java Programming ...|    Advanced|    502572|  4.6|           123798|\n",
      "|       15|Learn Python Prog...|    Advanced|    240790|  4.5|            58677|\n",
      "|        3|Machine Learning ...|Intermediate|    692812|  4.5|           132228|\n",
      "|       14|Modern React with...|Intermediate|    203214|  4.7|            60835|\n",
      "|        8|Python for Data S...|Intermediate|    387789|  4.6|            87403|\n",
      "|        6|React - The Compl...|Intermediate|    304670|  4.6|            90964|\n",
      "|       18|Selenium WebDrive...|    Advanced|    148562|  4.6|            49947|\n",
      "|       21|Spring & Hibernat...|    Advanced|    177053|  4.6|            45329|\n",
      "|        7|The Complete 2020...|    Beginner|    270656|  4.7|            88098|\n",
      "|        9|The Complete Java...|Intermediate|    347979|  4.6|            83521|\n",
      "|       16|The Complete Node...|    Advanced|    202922|  4.7|            50885|\n",
      "|       13|The Complete Web ...|Intermediate|    273598|  4.5|            63175|\n",
      "|       11|The Data Science ...|    Beginner|    325047|  4.5|            76907|\n",
      "|       20|The Ultimate MySQ...|    Beginner|    203366|  4.6|            45382|\n",
      "|        2|The Web Developer...|    Beginner|    596726|  4.6|           182997|\n",
      "|       19|Unreal Engine C++...|    Advanced|    229005|  4.5|            45860|\n",
      "+---------+--------------------+------------+----------+-----+-----------------+\n",
      "only showing top 20 rows\n",
      "\n"
     ]
    }
   ],
   "source": [
    "courses = [{'course_id': 1,\n",
    "  'course_name': '2020 Complete Python Bootcamp: From Zero to Hero in Python',\n",
    "  'suitable_for': 'Beginner',\n",
    "  'enrollment': 1100093,\n",
    "  'stars': 4.6,\n",
    "  'number_of_ratings': 318066},\n",
    " {'course_id': 4,\n",
    "  'course_name': 'Angular - The Complete Guide (2020 Edition)',\n",
    "  'suitable_for': 'Intermediate',\n",
    "  'enrollment': 422557,\n",
    "  'stars': 4.6,\n",
    "  'number_of_ratings': 129984},\n",
    " {'course_id': 12,\n",
    "  'course_name': 'Automate the Boring Stuff with Python Programming',\n",
    "  'suitable_for': 'Advanced',\n",
    "  'enrollment': 692617,\n",
    "  'stars': 4.6,\n",
    "  'number_of_ratings': 70508},\n",
    " {'course_id': 10,\n",
    "  'course_name': 'Complete C# Unity Game Developer 2D',\n",
    "  'suitable_for': 'Advanced',\n",
    "  'enrollment': 364934,\n",
    "  'stars': 4.6,\n",
    "  'number_of_ratings': 78989},\n",
    " {'course_id': 5,\n",
    "  'course_name': 'Java Programming Masterclass for Software Developers',\n",
    "  'suitable_for': 'Advanced',\n",
    "  'enrollment': 502572,\n",
    "  'stars': 4.6,\n",
    "  'number_of_ratings': 123798},\n",
    " {'course_id': 15,\n",
    "  'course_name': 'Learn Python Programming Masterclass',\n",
    "  'suitable_for': 'Advanced',\n",
    "  'enrollment': 240790,\n",
    "  'stars': 4.5,\n",
    "  'number_of_ratings': 58677},\n",
    " {'course_id': 3,\n",
    "  'course_name': 'Machine Learning A-Z™: Hands-On Python & R In Data Science',\n",
    "  'suitable_for': 'Intermediate',\n",
    "  'enrollment': 692812,\n",
    "  'stars': 4.5,\n",
    "  'number_of_ratings': 132228},\n",
    " {'course_id': 14,\n",
    "  'course_name': 'Modern React with Redux [2020 Update]',\n",
    "  'suitable_for': 'Intermediate',\n",
    "  'enrollment': 203214,\n",
    "  'stars': 4.7,\n",
    "  'number_of_ratings': 60835},\n",
    " {'course_id': 8,\n",
    "  'course_name': 'Python for Data Science and Machine Learning Bootcamp',\n",
    "  'suitable_for': 'Intermediate',\n",
    "  'enrollment': 387789,\n",
    "  'stars': 4.6,\n",
    "  'number_of_ratings': 87403},\n",
    " {'course_id': 6,\n",
    "  'course_name': 'React - The Complete Guide (incl Hooks, React Router, Redux)',\n",
    "  'suitable_for': 'Intermediate',\n",
    "  'enrollment': 304670,\n",
    "  'stars': 4.6,\n",
    "  'number_of_ratings': 90964},\n",
    " {'course_id': 18,\n",
    "  'course_name': 'Selenium WebDriver with Java -Basics to Advanced+Frameworks',\n",
    "  'suitable_for': 'Advanced',\n",
    "  'enrollment': 148562,\n",
    "  'stars': 4.6,\n",
    "  'number_of_ratings': 49947},\n",
    " {'course_id': 21,\n",
    "  'course_name': 'Spring & Hibernate for Beginners (includes Spring Boot)',\n",
    "  'suitable_for': 'Advanced',\n",
    "  'enrollment': 177053,\n",
    "  'stars': 4.6,\n",
    "  'number_of_ratings': 45329},\n",
    " {'course_id': 7,\n",
    "  'course_name': 'The Complete 2020 Web Development Bootcamp',\n",
    "  'suitable_for': 'Beginner',\n",
    "  'enrollment': 270656,\n",
    "  'stars': 4.7,\n",
    "  'number_of_ratings': 88098},\n",
    " {'course_id': 9,\n",
    "  'course_name': 'The Complete JavaScript Course 2020: Build Real Projects!',\n",
    "  'suitable_for': 'Intermediate',\n",
    "  'enrollment': 347979,\n",
    "  'stars': 4.6,\n",
    "  'number_of_ratings': 83521},\n",
    " {'course_id': 16,\n",
    "  'course_name': 'The Complete Node.js Developer Course (3rd Edition)',\n",
    "  'suitable_for': 'Advanced',\n",
    "  'enrollment': 202922,\n",
    "  'stars': 4.7,\n",
    "  'number_of_ratings': 50885},\n",
    " {'course_id': 13,\n",
    "  'course_name': 'The Complete Web Developer Course 2.0',\n",
    "  'suitable_for': 'Intermediate',\n",
    "  'enrollment': 273598,\n",
    "  'stars': 4.5,\n",
    "  'number_of_ratings': 63175},\n",
    " {'course_id': 11,\n",
    "  'course_name': 'The Data Science Course 2020: Complete Data Science Bootcamp',\n",
    "  'suitable_for': 'Beginner',\n",
    "  'enrollment': 325047,\n",
    "  'stars': 4.5,\n",
    "  'number_of_ratings': 76907},\n",
    " {'course_id': 20,\n",
    "  'course_name': 'The Ultimate MySQL Bootcamp: Go from SQL Beginner to Expert',\n",
    "  'suitable_for': 'Beginner',\n",
    "  'enrollment': 203366,\n",
    "  'stars': 4.6,\n",
    "  'number_of_ratings': 45382},\n",
    " {'course_id': 2,\n",
    "  'course_name': 'The Web Developer Bootcamp',\n",
    "  'suitable_for': 'Beginner',\n",
    "  'enrollment': 596726,\n",
    "  'stars': 4.6,\n",
    "  'number_of_ratings': 182997},\n",
    " {'course_id': 19,\n",
    "  'course_name': 'Unreal Engine C++ Developer: Learn C++ and Make Video Games',\n",
    "  'suitable_for': 'Advanced',\n",
    "  'enrollment': 229005,\n",
    "  'stars': 4.5,\n",
    "  'number_of_ratings': 45860},\n",
    " {'course_id': 17,\n",
    "  'course_name': 'iOS 13 & Swift 5 - The Complete iOS App Development Bootcamp',\n",
    "  'suitable_for': 'Advanced',\n",
    "  'enrollment': 179598,\n",
    "  'stars': 4.8,\n",
    "  'number_of_ratings': 49972}]\n",
    "     \n",
    "\n",
    "from pyspark.sql import Row\n",
    "     \n",
    "\n",
    "courses_df = spark.createDataFrame([Row(**course) for course in courses])\n",
    "     \n",
    "\n",
    "courses_df.show()"
   ]
  },
  {
   "cell_type": "code",
   "execution_count": 82,
   "id": "a236c03d",
   "metadata": {},
   "outputs": [
    {
     "data": {
      "text/plain": [
       "[Row(course_id=1, course_name='2020 Complete Python Bootcamp: From Zero to Hero in Python', suitable_for='Beginner', enrollment=1100093, stars=4.6, number_of_ratings=318066),\n",
       " Row(course_id=4, course_name='Angular - The Complete Guide (2020 Edition)', suitable_for='Intermediate', enrollment=422557, stars=4.6, number_of_ratings=129984),\n",
       " Row(course_id=12, course_name='Automate the Boring Stuff with Python Programming', suitable_for='Advanced', enrollment=692617, stars=4.6, number_of_ratings=70508),\n",
       " Row(course_id=10, course_name='Complete C# Unity Game Developer 2D', suitable_for='Advanced', enrollment=364934, stars=4.6, number_of_ratings=78989),\n",
       " Row(course_id=5, course_name='Java Programming Masterclass for Software Developers', suitable_for='Advanced', enrollment=502572, stars=4.6, number_of_ratings=123798),\n",
       " Row(course_id=15, course_name='Learn Python Programming Masterclass', suitable_for='Advanced', enrollment=240790, stars=4.5, number_of_ratings=58677),\n",
       " Row(course_id=3, course_name='Machine Learning A-Z™: Hands-On Python & R In Data Science', suitable_for='Intermediate', enrollment=692812, stars=4.5, number_of_ratings=132228),\n",
       " Row(course_id=14, course_name='Modern React with Redux [2020 Update]', suitable_for='Intermediate', enrollment=203214, stars=4.7, number_of_ratings=60835),\n",
       " Row(course_id=8, course_name='Python for Data Science and Machine Learning Bootcamp', suitable_for='Intermediate', enrollment=387789, stars=4.6, number_of_ratings=87403),\n",
       " Row(course_id=6, course_name='React - The Complete Guide (incl Hooks, React Router, Redux)', suitable_for='Intermediate', enrollment=304670, stars=4.6, number_of_ratings=90964),\n",
       " Row(course_id=18, course_name='Selenium WebDriver with Java -Basics to Advanced+Frameworks', suitable_for='Advanced', enrollment=148562, stars=4.6, number_of_ratings=49947),\n",
       " Row(course_id=21, course_name='Spring & Hibernate for Beginners (includes Spring Boot)', suitable_for='Advanced', enrollment=177053, stars=4.6, number_of_ratings=45329),\n",
       " Row(course_id=7, course_name='The Complete 2020 Web Development Bootcamp', suitable_for='Beginner', enrollment=270656, stars=4.7, number_of_ratings=88098),\n",
       " Row(course_id=9, course_name='The Complete JavaScript Course 2020: Build Real Projects!', suitable_for='Intermediate', enrollment=347979, stars=4.6, number_of_ratings=83521),\n",
       " Row(course_id=16, course_name='The Complete Node.js Developer Course (3rd Edition)', suitable_for='Advanced', enrollment=202922, stars=4.7, number_of_ratings=50885),\n",
       " Row(course_id=13, course_name='The Complete Web Developer Course 2.0', suitable_for='Intermediate', enrollment=273598, stars=4.5, number_of_ratings=63175),\n",
       " Row(course_id=11, course_name='The Data Science Course 2020: Complete Data Science Bootcamp', suitable_for='Beginner', enrollment=325047, stars=4.5, number_of_ratings=76907),\n",
       " Row(course_id=20, course_name='The Ultimate MySQL Bootcamp: Go from SQL Beginner to Expert', suitable_for='Beginner', enrollment=203366, stars=4.6, number_of_ratings=45382),\n",
       " Row(course_id=2, course_name='The Web Developer Bootcamp', suitable_for='Beginner', enrollment=596726, stars=4.6, number_of_ratings=182997),\n",
       " Row(course_id=19, course_name='Unreal Engine C++ Developer: Learn C++ and Make Video Games', suitable_for='Advanced', enrollment=229005, stars=4.5, number_of_ratings=45860),\n",
       " Row(course_id=17, course_name='iOS 13 & Swift 5 - The Complete iOS App Development Bootcamp', suitable_for='Advanced', enrollment=179598, stars=4.8, number_of_ratings=49972)]"
      ]
     },
     "execution_count": 82,
     "metadata": {},
     "output_type": "execute_result"
    }
   ],
   "source": [
    "[Row(**course) for course in courses]"
   ]
  },
  {
   "cell_type": "code",
   "execution_count": 83,
   "id": "b4880433",
   "metadata": {},
   "outputs": [
    {
     "name": "stdout",
     "output_type": "stream",
     "text": [
      "root\n",
      " |-- course_id: long (nullable = true)\n",
      " |-- course_name: string (nullable = true)\n",
      " |-- suitable_for: string (nullable = true)\n",
      " |-- enrollment: long (nullable = true)\n",
      " |-- stars: double (nullable = true)\n",
      " |-- number_of_ratings: long (nullable = true)\n",
      "\n"
     ]
    }
   ],
   "source": [
    "courses_df.printSchema()"
   ]
  },
  {
   "cell_type": "code",
   "execution_count": 110,
   "id": "22b213ff",
   "metadata": {},
   "outputs": [
    {
     "ename": "TypeError",
     "evalue": "test() got an unexpected keyword argument '1'",
     "output_type": "error",
     "traceback": [
      "\u001b[0;31m---------------------------------------------------------------------------\u001b[0m",
      "\u001b[0;31mTypeError\u001b[0m                                 Traceback (most recent call last)",
      "\u001b[0;32m/var/folders/7z/zf4v6y0d1q5bnv1v6p7tmvq80000gn/T/ipykernel_6070/1518191461.py\u001b[0m in \u001b[0;36m<module>\u001b[0;34m\u001b[0m\n\u001b[1;32m      5\u001b[0m \u001b[0;34m\u001b[0m\u001b[0m\n\u001b[1;32m      6\u001b[0m \u001b[0;34m\u001b[0m\u001b[0m\n\u001b[0;32m----> 7\u001b[0;31m \u001b[0mtest\u001b[0m\u001b[0;34m(\u001b[0m\u001b[0;34m**\u001b[0m\u001b[0md\u001b[0m\u001b[0;34m)\u001b[0m\u001b[0;34m\u001b[0m\u001b[0;34m\u001b[0m\u001b[0m\n\u001b[0m",
      "\u001b[0;31mTypeError\u001b[0m: test() got an unexpected keyword argument '1'"
     ]
    }
   ],
   "source": [
    "def test(m=None,p=None):\n",
    "    print(m)\n",
    "    \n",
    "d = {\"1\":\"2\",\"3\":\"4\"}\n",
    "\n",
    "\n",
    "test(**d)\n"
   ]
  },
  {
   "cell_type": "code",
   "execution_count": 114,
   "id": "7d34b5df",
   "metadata": {},
   "outputs": [
    {
     "name": "stdout",
     "output_type": "stream",
     "text": [
      "+---------+--------------------+------------+----------+-----+-----------------+\n",
      "|course_id|         course_name|suitable_for|enrollment|stars|number_of_ratings|\n",
      "+---------+--------------------+------------+----------+-----+-----------------+\n",
      "|       18|Selenium WebDrive...|    Advanced|    148562|  4.6|            49947|\n",
      "|       21|Spring & Hibernat...|    Advanced|    177053|  4.6|            45329|\n",
      "|       17|iOS 13 & Swift 5 ...|    Advanced|    179598|  4.8|            49972|\n",
      "|       16|The Complete Node...|    Advanced|    202922|  4.7|            50885|\n",
      "|       19|Unreal Engine C++...|    Advanced|    229005|  4.5|            45860|\n",
      "|       15|Learn Python Prog...|    Advanced|    240790|  4.5|            58677|\n",
      "|       10|Complete C# Unity...|    Advanced|    364934|  4.6|            78989|\n",
      "|        5|Java Programming ...|    Advanced|    502572|  4.6|           123798|\n",
      "|       12|Automate the Bori...|    Advanced|    692617|  4.6|            70508|\n",
      "|       20|The Ultimate MySQ...|    Beginner|    203366|  4.6|            45382|\n",
      "|        7|The Complete 2020...|    Beginner|    270656|  4.7|            88098|\n",
      "|       11|The Data Science ...|    Beginner|    325047|  4.5|            76907|\n",
      "|        2|The Web Developer...|    Beginner|    596726|  4.6|           182997|\n",
      "|        1|2020 Complete Pyt...|    Beginner|   1100093|  4.6|           318066|\n",
      "|       14|Modern React with...|Intermediate|    203214|  4.7|            60835|\n",
      "|       13|The Complete Web ...|Intermediate|    273598|  4.5|            63175|\n",
      "|        6|React - The Compl...|Intermediate|    304670|  4.6|            90964|\n",
      "|        9|The Complete Java...|Intermediate|    347979|  4.6|            83521|\n",
      "|        8|Python for Data S...|Intermediate|    387789|  4.6|            87403|\n",
      "|        4|Angular - The Com...|Intermediate|    422557|  4.6|           129984|\n",
      "+---------+--------------------+------------+----------+-----+-----------------+\n",
      "only showing top 20 rows\n",
      "\n"
     ]
    }
   ],
   "source": [
    "\n",
    "# Ascending order for both the columns\n",
    "\n",
    "courses_df. \\\n",
    "    sort(['suitable_for', 'enrollment']). \\\n",
    "    show()\n",
    "\n",
    "\n",
    "# or\n",
    "\n",
    "\n",
    "# courses_df. \\\n",
    "#     sort('suitable_for', 'enrollment'). \\\n",
    "#     show()"
   ]
  },
  {
   "cell_type": "markdown",
   "id": "c14c5266",
   "metadata": {},
   "source": [
    "### Sort courses in ascending order by suitable_for and then in descending order by number_of_ratings"
   ]
  },
  {
   "cell_type": "code",
   "execution_count": 117,
   "id": "f0ff1709",
   "metadata": {
    "scrolled": true
   },
   "outputs": [
    {
     "name": "stdout",
     "output_type": "stream",
     "text": [
      "+---------+--------------------+------------+----------+-----+-----------------+\n",
      "|course_id|         course_name|suitable_for|enrollment|stars|number_of_ratings|\n",
      "+---------+--------------------+------------+----------+-----+-----------------+\n",
      "|        5|Java Programming ...|    Advanced|    502572|  4.6|           123798|\n",
      "|       10|Complete C# Unity...|    Advanced|    364934|  4.6|            78989|\n",
      "|       12|Automate the Bori...|    Advanced|    692617|  4.6|            70508|\n",
      "|       15|Learn Python Prog...|    Advanced|    240790|  4.5|            58677|\n",
      "|       16|The Complete Node...|    Advanced|    202922|  4.7|            50885|\n",
      "|       17|iOS 13 & Swift 5 ...|    Advanced|    179598|  4.8|            49972|\n",
      "|       18|Selenium WebDrive...|    Advanced|    148562|  4.6|            49947|\n",
      "|       19|Unreal Engine C++...|    Advanced|    229005|  4.5|            45860|\n",
      "|       21|Spring & Hibernat...|    Advanced|    177053|  4.6|            45329|\n",
      "|        1|2020 Complete Pyt...|    Beginner|   1100093|  4.6|           318066|\n",
      "|        2|The Web Developer...|    Beginner|    596726|  4.6|           182997|\n",
      "|        7|The Complete 2020...|    Beginner|    270656|  4.7|            88098|\n",
      "|       11|The Data Science ...|    Beginner|    325047|  4.5|            76907|\n",
      "|       20|The Ultimate MySQ...|    Beginner|    203366|  4.6|            45382|\n",
      "|        3|Machine Learning ...|Intermediate|    692812|  4.5|           132228|\n",
      "|        4|Angular - The Com...|Intermediate|    422557|  4.6|           129984|\n",
      "|        6|React - The Compl...|Intermediate|    304670|  4.6|            90964|\n",
      "|        8|Python for Data S...|Intermediate|    387789|  4.6|            87403|\n",
      "|        9|The Complete Java...|Intermediate|    347979|  4.6|            83521|\n",
      "|       13|The Complete Web ...|Intermediate|    273598|  4.5|            63175|\n",
      "+---------+--------------------+------------+----------+-----+-----------------+\n",
      "only showing top 20 rows\n",
      "\n",
      "+---------+--------------------+------------+----------+-----+-----------------+\n",
      "|course_id|         course_name|suitable_for|enrollment|stars|number_of_ratings|\n",
      "+---------+--------------------+------------+----------+-----+-----------------+\n",
      "|        5|Java Programming ...|    Advanced|    502572|  4.6|           123798|\n",
      "|       10|Complete C# Unity...|    Advanced|    364934|  4.6|            78989|\n",
      "|       12|Automate the Bori...|    Advanced|    692617|  4.6|            70508|\n",
      "|       15|Learn Python Prog...|    Advanced|    240790|  4.5|            58677|\n",
      "|       16|The Complete Node...|    Advanced|    202922|  4.7|            50885|\n",
      "|       17|iOS 13 & Swift 5 ...|    Advanced|    179598|  4.8|            49972|\n",
      "|       18|Selenium WebDrive...|    Advanced|    148562|  4.6|            49947|\n",
      "|       19|Unreal Engine C++...|    Advanced|    229005|  4.5|            45860|\n",
      "|       21|Spring & Hibernat...|    Advanced|    177053|  4.6|            45329|\n",
      "|        1|2020 Complete Pyt...|    Beginner|   1100093|  4.6|           318066|\n",
      "|        2|The Web Developer...|    Beginner|    596726|  4.6|           182997|\n",
      "|        7|The Complete 2020...|    Beginner|    270656|  4.7|            88098|\n",
      "|       11|The Data Science ...|    Beginner|    325047|  4.5|            76907|\n",
      "|       20|The Ultimate MySQ...|    Beginner|    203366|  4.6|            45382|\n",
      "|        3|Machine Learning ...|Intermediate|    692812|  4.5|           132228|\n",
      "|        4|Angular - The Com...|Intermediate|    422557|  4.6|           129984|\n",
      "|        6|React - The Compl...|Intermediate|    304670|  4.6|            90964|\n",
      "|        8|Python for Data S...|Intermediate|    387789|  4.6|            87403|\n",
      "|        9|The Complete Java...|Intermediate|    347979|  4.6|            83521|\n",
      "|       13|The Complete Web ...|Intermediate|    273598|  4.5|            63175|\n",
      "+---------+--------------------+------------+----------+-----+-----------------+\n",
      "only showing top 20 rows\n",
      "\n"
     ]
    }
   ],
   "source": [
    "courses_df. \\\n",
    "    sort(courses_df['suitable_for'].asc(), courses_df['number_of_ratings'].desc()). \\\n",
    "    show()\n",
    "\n",
    "from pyspark.sql.functions import desc,asc\n",
    "\n",
    "courses_df. \\\n",
    "    sort(asc(courses_df['suitable_for']), desc(courses_df['number_of_ratings'])). \\\n",
    "    show()"
   ]
  },
  {
   "cell_type": "code",
   "execution_count": 121,
   "id": "72d8667c",
   "metadata": {
    "scrolled": true
   },
   "outputs": [
    {
     "name": "stdout",
     "output_type": "stream",
     "text": [
      "+---------+--------------------+------------+----------+-----+-----------------+\n",
      "|course_id|         course_name|suitable_for|enrollment|stars|number_of_ratings|\n",
      "+---------+--------------------+------------+----------+-----+-----------------+\n",
      "|        5|Java Programming ...|    Advanced|    502572|  4.6|           123798|\n",
      "|       10|Complete C# Unity...|    Advanced|    364934|  4.6|            78989|\n",
      "|       12|Automate the Bori...|    Advanced|    692617|  4.6|            70508|\n",
      "|       15|Learn Python Prog...|    Advanced|    240790|  4.5|            58677|\n",
      "|       16|The Complete Node...|    Advanced|    202922|  4.7|            50885|\n",
      "|       17|iOS 13 & Swift 5 ...|    Advanced|    179598|  4.8|            49972|\n",
      "|       18|Selenium WebDrive...|    Advanced|    148562|  4.6|            49947|\n",
      "|       19|Unreal Engine C++...|    Advanced|    229005|  4.5|            45860|\n",
      "|       21|Spring & Hibernat...|    Advanced|    177053|  4.6|            45329|\n",
      "|        1|2020 Complete Pyt...|    Beginner|   1100093|  4.6|           318066|\n",
      "|        2|The Web Developer...|    Beginner|    596726|  4.6|           182997|\n",
      "|        7|The Complete 2020...|    Beginner|    270656|  4.7|            88098|\n",
      "|       11|The Data Science ...|    Beginner|    325047|  4.5|            76907|\n",
      "|       20|The Ultimate MySQ...|    Beginner|    203366|  4.6|            45382|\n",
      "|        3|Machine Learning ...|Intermediate|    692812|  4.5|           132228|\n",
      "|        4|Angular - The Com...|Intermediate|    422557|  4.6|           129984|\n",
      "|        6|React - The Compl...|Intermediate|    304670|  4.6|            90964|\n",
      "|        8|Python for Data S...|Intermediate|    387789|  4.6|            87403|\n",
      "|        9|The Complete Java...|Intermediate|    347979|  4.6|            83521|\n",
      "|       13|The Complete Web ...|Intermediate|    273598|  4.5|            63175|\n",
      "+---------+--------------------+------------+----------+-----+-----------------+\n",
      "only showing top 20 rows\n",
      "\n",
      "+---------+--------------------+------------+----------+-----+-----------------+\n",
      "|course_id|         course_name|suitable_for|enrollment|stars|number_of_ratings|\n",
      "+---------+--------------------+------------+----------+-----+-----------------+\n",
      "|        5|Java Programming ...|    Advanced|    502572|  4.6|           123798|\n",
      "|       10|Complete C# Unity...|    Advanced|    364934|  4.6|            78989|\n",
      "|       12|Automate the Bori...|    Advanced|    692617|  4.6|            70508|\n",
      "|       15|Learn Python Prog...|    Advanced|    240790|  4.5|            58677|\n",
      "|       16|The Complete Node...|    Advanced|    202922|  4.7|            50885|\n",
      "|       17|iOS 13 & Swift 5 ...|    Advanced|    179598|  4.8|            49972|\n",
      "|       18|Selenium WebDrive...|    Advanced|    148562|  4.6|            49947|\n",
      "|       19|Unreal Engine C++...|    Advanced|    229005|  4.5|            45860|\n",
      "|       21|Spring & Hibernat...|    Advanced|    177053|  4.6|            45329|\n",
      "|        1|2020 Complete Pyt...|    Beginner|   1100093|  4.6|           318066|\n",
      "|        2|The Web Developer...|    Beginner|    596726|  4.6|           182997|\n",
      "|        7|The Complete 2020...|    Beginner|    270656|  4.7|            88098|\n",
      "|       11|The Data Science ...|    Beginner|    325047|  4.5|            76907|\n",
      "|       20|The Ultimate MySQ...|    Beginner|    203366|  4.6|            45382|\n",
      "|        3|Machine Learning ...|Intermediate|    692812|  4.5|           132228|\n",
      "|        4|Angular - The Com...|Intermediate|    422557|  4.6|           129984|\n",
      "|        6|React - The Compl...|Intermediate|    304670|  4.6|            90964|\n",
      "|        8|Python for Data S...|Intermediate|    387789|  4.6|            87403|\n",
      "|        9|The Complete Java...|Intermediate|    347979|  4.6|            83521|\n",
      "|       13|The Complete Web ...|Intermediate|    273598|  4.5|            63175|\n",
      "+---------+--------------------+------------+----------+-----+-----------------+\n",
      "only showing top 20 rows\n",
      "\n"
     ]
    }
   ],
   "source": [
    "courses_df. \\\n",
    "    sort('suitable_for', desc('number_of_ratings')). \\\n",
    "    show()\n",
    "\n",
    "# or\n",
    "\n",
    "# using list of columns\n",
    "\n",
    "courses_df.\\\n",
    "    sort([\"suitable_for\",\"number_of_ratings\"],ascending = [1,0]).show()"
   ]
  },
  {
   "cell_type": "code",
   "execution_count": null,
   "id": "25cd1579",
   "metadata": {},
   "outputs": [],
   "source": []
  },
  {
   "cell_type": "markdown",
   "id": "d35f3f59",
   "metadata": {},
   "source": [
    "# Prioritised Sorting"
   ]
  },
  {
   "cell_type": "code",
   "execution_count": 2,
   "id": "6c95e88f",
   "metadata": {},
   "outputs": [],
   "source": [
    "from pyspark.sql.functions import col, when"
   ]
  },
  {
   "cell_type": "code",
   "execution_count": 3,
   "id": "83cd33a1",
   "metadata": {},
   "outputs": [
    {
     "name": "stdout",
     "output_type": "stream",
     "text": [
      "Help on function when in module pyspark.sql.functions:\n",
      "\n",
      "when(condition, value)\n",
      "    Evaluates a list of conditions and returns one of multiple possible result expressions.\n",
      "    If :func:`pyspark.sql.Column.otherwise` is not invoked, None is returned for unmatched\n",
      "    conditions.\n",
      "    \n",
      "    .. versionadded:: 1.4.0\n",
      "    \n",
      "    Parameters\n",
      "    ----------\n",
      "    condition : :class:`~pyspark.sql.Column`\n",
      "        a boolean :class:`~pyspark.sql.Column` expression.\n",
      "    value :\n",
      "        a literal value, or a :class:`~pyspark.sql.Column` expression.\n",
      "    \n",
      "    >>> df.select(when(df['age'] == 2, 3).otherwise(4).alias(\"age\")).collect()\n",
      "    [Row(age=3), Row(age=4)]\n",
      "    \n",
      "    >>> df.select(when(df.age == 2, df.age + 1).alias(\"age\")).collect()\n",
      "    [Row(age=3), Row(age=None)]\n",
      "\n"
     ]
    }
   ],
   "source": [
    "help(when)\n",
    "\n",
    "# when can be use in functions like select,agg,sum,min,orderBy"
   ]
  },
  {
   "cell_type": "code",
   "execution_count": 128,
   "id": "5e03ff20",
   "metadata": {},
   "outputs": [],
   "source": [
    "\n",
    "# Use case\n",
    "\n",
    "        # to get Beginner at top\n",
    "        #.       Intermediate at midele\n",
    "        #        Advanced at end"
   ]
  },
  {
   "cell_type": "code",
   "execution_count": 129,
   "id": "a4ea8a67",
   "metadata": {},
   "outputs": [],
   "source": [
    "# with when, we can use otherwise .\n",
    "# if when is rejected, otherwise is intiated\n",
    "\n",
    "course_level = when(col('suitable_for') == 'Beginner', 0).otherwise(when(col('suitable_for') == 'Intermediate', 1).otherwise(2))\n",
    "   \n",
    "    \n",
    "# or\n",
    "\n",
    "\n",
    "from pyspark.sql.functions import expr\n",
    "\n",
    "course_level = expr(\"\"\"\n",
    "    CASE \n",
    "        WHEN suitable_for = 'Beginner'\n",
    "            THEN 0\n",
    "        WHEN suitable_for = 'Intermediate'\n",
    "            THEN 1\n",
    "        ELSE 2\n",
    "    END\n",
    "\"\"\")\n"
   ]
  },
  {
   "cell_type": "code",
   "execution_count": 130,
   "id": "cf0f6447",
   "metadata": {},
   "outputs": [
    {
     "name": "stdout",
     "output_type": "stream",
     "text": [
      "+---------+--------------------+------------+----------+-----+-----------------+\n",
      "|course_id|         course_name|suitable_for|enrollment|stars|number_of_ratings|\n",
      "+---------+--------------------+------------+----------+-----+-----------------+\n",
      "|        1|2020 Complete Pyt...|    Beginner|   1100093|  4.6|           318066|\n",
      "|        2|The Web Developer...|    Beginner|    596726|  4.6|           182997|\n",
      "|        7|The Complete 2020...|    Beginner|    270656|  4.7|            88098|\n",
      "|       11|The Data Science ...|    Beginner|    325047|  4.5|            76907|\n",
      "|       20|The Ultimate MySQ...|    Beginner|    203366|  4.6|            45382|\n",
      "|        3|Machine Learning ...|Intermediate|    692812|  4.5|           132228|\n",
      "|        4|Angular - The Com...|Intermediate|    422557|  4.6|           129984|\n",
      "|        6|React - The Compl...|Intermediate|    304670|  4.6|            90964|\n",
      "|        8|Python for Data S...|Intermediate|    387789|  4.6|            87403|\n",
      "|        9|The Complete Java...|Intermediate|    347979|  4.6|            83521|\n",
      "|       13|The Complete Web ...|Intermediate|    273598|  4.5|            63175|\n",
      "|       14|Modern React with...|Intermediate|    203214|  4.7|            60835|\n",
      "|        5|Java Programming ...|    Advanced|    502572|  4.6|           123798|\n",
      "|       10|Complete C# Unity...|    Advanced|    364934|  4.6|            78989|\n",
      "|       12|Automate the Bori...|    Advanced|    692617|  4.6|            70508|\n",
      "|       15|Learn Python Prog...|    Advanced|    240790|  4.5|            58677|\n",
      "|       16|The Complete Node...|    Advanced|    202922|  4.7|            50885|\n",
      "|       17|iOS 13 & Swift 5 ...|    Advanced|    179598|  4.8|            49972|\n",
      "|       18|Selenium WebDrive...|    Advanced|    148562|  4.6|            49947|\n",
      "|       19|Unreal Engine C++...|    Advanced|    229005|  4.5|            45860|\n",
      "+---------+--------------------+------------+----------+-----+-----------------+\n",
      "only showing top 20 rows\n",
      "\n",
      "+---------+--------------------+------------+----------+-----+-----------------+\n",
      "|course_id|         course_name|suitable_for|enrollment|stars|number_of_ratings|\n",
      "+---------+--------------------+------------+----------+-----+-----------------+\n",
      "|        1|2020 Complete Pyt...|    Beginner|   1100093|  4.6|           318066|\n",
      "|        2|The Web Developer...|    Beginner|    596726|  4.6|           182997|\n",
      "|        7|The Complete 2020...|    Beginner|    270656|  4.7|            88098|\n",
      "|       11|The Data Science ...|    Beginner|    325047|  4.5|            76907|\n",
      "|       20|The Ultimate MySQ...|    Beginner|    203366|  4.6|            45382|\n",
      "|        3|Machine Learning ...|Intermediate|    692812|  4.5|           132228|\n",
      "|        4|Angular - The Com...|Intermediate|    422557|  4.6|           129984|\n",
      "|        6|React - The Compl...|Intermediate|    304670|  4.6|            90964|\n",
      "|        8|Python for Data S...|Intermediate|    387789|  4.6|            87403|\n",
      "|        9|The Complete Java...|Intermediate|    347979|  4.6|            83521|\n",
      "|       13|The Complete Web ...|Intermediate|    273598|  4.5|            63175|\n",
      "|       14|Modern React with...|Intermediate|    203214|  4.7|            60835|\n",
      "|        5|Java Programming ...|    Advanced|    502572|  4.6|           123798|\n",
      "|       10|Complete C# Unity...|    Advanced|    364934|  4.6|            78989|\n",
      "|       12|Automate the Bori...|    Advanced|    692617|  4.6|            70508|\n",
      "|       15|Learn Python Prog...|    Advanced|    240790|  4.5|            58677|\n",
      "|       16|The Complete Node...|    Advanced|    202922|  4.7|            50885|\n",
      "|       17|iOS 13 & Swift 5 ...|    Advanced|    179598|  4.8|            49972|\n",
      "|       18|Selenium WebDrive...|    Advanced|    148562|  4.6|            49947|\n",
      "|       19|Unreal Engine C++...|    Advanced|    229005|  4.5|            45860|\n",
      "+---------+--------------------+------------+----------+-----+-----------------+\n",
      "only showing top 20 rows\n",
      "\n"
     ]
    }
   ],
   "source": [
    "  \n",
    "courses_df. \\\n",
    "    orderBy(course_level, col('number_of_ratings').desc()). \\\n",
    "    show()\n",
    "     \n",
    "\n",
    "# Using expr and then case and when\n",
    "\n",
    "courses_df. \\\n",
    "    sort(course_level, col('number_of_ratings').desc()). \\\n",
    "    show()\n",
    "     "
   ]
  },
  {
   "cell_type": "code",
   "execution_count": null,
   "id": "0fdaefa8",
   "metadata": {},
   "outputs": [],
   "source": []
  }
 ],
 "metadata": {
  "kernelspec": {
   "display_name": "Python 3 (ipykernel)",
   "language": "python",
   "name": "python3"
  },
  "language_info": {
   "codemirror_mode": {
    "name": "ipython",
    "version": 3
   },
   "file_extension": ".py",
   "mimetype": "text/x-python",
   "name": "python",
   "nbconvert_exporter": "python",
   "pygments_lexer": "ipython3",
   "version": "3.10.8"
  }
 },
 "nbformat": 4,
 "nbformat_minor": 5
}
