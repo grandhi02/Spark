{
 "cells": [
  {
   "cell_type": "code",
   "execution_count": 26,
   "id": "16230b32",
   "metadata": {},
   "outputs": [
    {
     "name": "stdout",
     "output_type": "stream",
     "text": [
      "+---+----------+------------+--------------------+------+-------------+--------------------+-------+-----------+-----------+-------------+-------------------+\n",
      "| id|first_name|   last_name|               email|gender| current_city|       phone_numbers|courses|is_customer|amount_paid|customer_from|    last_updated_ts|\n",
      "+---+----------+------------+--------------------+------+-------------+--------------------+-------+-----------+-----------+-------------+-------------------+\n",
      "|  1|    Corrie|Van den Oord|cvandenoord0@etsy...|  male|       Dallas|{+1 234 567 8901,...| [1, 2]|       true|    1000.55|   2021-01-15|2021-02-10 01:15:00|\n",
      "|  2|  Nikolaus|     Brewitt|nbrewitt1@dailyma...|  male|      Houston|{+1 234 567 8923,...|    [3]|       true|      900.0|   2021-02-14|2021-02-18 03:33:00|\n",
      "|  3|    Orelie|      Penney|openney2@vistapri...|female|             |{+1 714 512 9752,...| [2, 4]|       true|     850.55|   2021-01-21|2021-03-15 15:16:55|\n",
      "|  4|     Ashby|    Maddocks|  amaddocks3@home.pl|  male|San Fransisco|        {null, null}|     []|      false|        NaN|         null|2021-04-10 17:45:30|\n",
      "|  5|      Kurt|        Rome|krome4@shutterfly...|female|         null|{+1 817 934 7142,...|     []|      false|        NaN|         null|2021-04-02 00:55:18|\n",
      "+---+----------+------------+--------------------+------+-------------+--------------------+-------+-----------+-----------+-------------+-------------------+\n",
      "\n"
     ]
    }
   ],
   "source": [
    "\n",
    "\n",
    "\n",
    "from pyspark.sql import Row\n",
    "     \n",
    "    \n",
    "# phone_numbers are in struct format on spark Dataframe\n",
    "\n",
    "import datetime\n",
    "users = [\n",
    "    {\n",
    "        \"id\": 1,\n",
    "        \"first_name\": \"Corrie\",\n",
    "        \"last_name\": \"Van den Oord\",\n",
    "        \"email\": \"cvandenoord0@etsy.com\",\n",
    "        \"gender\": \"male\",\n",
    "        \"current_city\": \"Dallas\",\n",
    "        \"phone_numbers\": Row(mobile=\"+1 234 567 8901\", home=\"+1 234 567 8911\"),\n",
    "        \"courses\": [1, 2],\n",
    "        \"is_customer\": True,\n",
    "        \"amount_paid\": 1000.55,\n",
    "        \"customer_from\": datetime.date(2021, 1, 15),\n",
    "        \"last_updated_ts\": datetime.datetime(2021, 2, 10, 1, 15, 0)\n",
    "    },\n",
    "    {\n",
    "        \"id\": 2,\n",
    "        \"first_name\": \"Nikolaus\",\n",
    "        \"last_name\": \"Brewitt\",\n",
    "        \"email\": \"nbrewitt1@dailymail.co.uk\",\n",
    "        \"gender\": \"male\",\n",
    "        \"current_city\": \"Houston\",\n",
    "        \"phone_numbers\":  Row(mobile=\"+1 234 567 8923\", home=\"1 234 567 8934\"),\n",
    "        \"courses\": [3],\n",
    "        \"is_customer\": True,\n",
    "        \"amount_paid\": 900.0,\n",
    "        \"customer_from\": datetime.date(2021, 2, 14),\n",
    "        \"last_updated_ts\": datetime.datetime(2021, 2, 18, 3, 33, 0)\n",
    "    },\n",
    "    {\n",
    "        \"id\": 3,\n",
    "        \"first_name\": \"Orelie\",\n",
    "        \"last_name\": \"Penney\",\n",
    "        \"email\": \"openney2@vistaprint.com\",\n",
    "        \"gender\": \"female\",\n",
    "        \"current_city\": \"\",\n",
    "        \"phone_numbers\": Row(mobile=\"+1 714 512 9752\", home=\"+1 714 512 6601\"),\n",
    "        \"courses\": [2, 4],\n",
    "        \"is_customer\": True,\n",
    "        \"amount_paid\": 850.55,\n",
    "        \"customer_from\": datetime.date(2021, 1, 21),\n",
    "        \"last_updated_ts\": datetime.datetime(2021, 3, 15, 15, 16, 55)\n",
    "    },\n",
    "    {\n",
    "        \"id\": 4,\n",
    "        \"first_name\": \"Ashby\",\n",
    "        \"last_name\": \"Maddocks\",\n",
    "        \"email\": \"amaddocks3@home.pl\",\n",
    "        \"gender\": \"male\",\n",
    "        \"current_city\": \"San Fransisco\",\n",
    "        \"phone_numbers\": Row(mobile=None, home=None),\n",
    "        \"courses\": [],\n",
    "        \"is_customer\": False,\n",
    "        \"amount_paid\": None,\n",
    "        \"customer_from\": None,\n",
    "        \"last_updated_ts\": datetime.datetime(2021, 4, 10, 17, 45, 30)\n",
    "    },\n",
    "    {\n",
    "        \"id\": 5,\n",
    "        \"first_name\": \"Kurt\",\n",
    "        \"last_name\": \"Rome\",\n",
    "        \"email\": \"krome4@shutterfly.com\",\n",
    "        \"gender\": \"female\",\n",
    "        \"current_city\": None,\n",
    "        \"phone_numbers\": Row(mobile=\"+1 817 934 7142\", home=None),\n",
    "        \"courses\": [],\n",
    "        \"is_customer\": False,\n",
    "        \"amount_paid\": None,\n",
    "        \"customer_from\": None,\n",
    "        \"last_updated_ts\": datetime.datetime(2021, 4, 2, 0, 55, 18)\n",
    "    }\n",
    "]\n",
    "     \n",
    "\n",
    "import pandas as pd\n",
    "     \n",
    "\n",
    "spark.conf.set('spark.sql.execution.arrow.pyspark.enabled', False)\n",
    "     \n",
    "\n",
    "users_df = spark.createDataFrame(pd.DataFrame(users))\n",
    "     \n",
    "\n",
    "users_df.show()\n"
   ]
  },
  {
   "cell_type": "code",
   "execution_count": 27,
   "id": "b7d6f951",
   "metadata": {},
   "outputs": [
    {
     "name": "stdout",
     "output_type": "stream",
     "text": [
      "root\n",
      " |-- id: long (nullable = true)\n",
      " |-- first_name: string (nullable = true)\n",
      " |-- last_name: string (nullable = true)\n",
      " |-- email: string (nullable = true)\n",
      " |-- gender: string (nullable = true)\n",
      " |-- current_city: string (nullable = true)\n",
      " |-- phone_numbers: struct (nullable = true)\n",
      " |    |-- mobile: string (nullable = true)\n",
      " |    |-- home: string (nullable = true)\n",
      " |-- courses: array (nullable = true)\n",
      " |    |-- element: long (containsNull = true)\n",
      " |-- is_customer: boolean (nullable = true)\n",
      " |-- amount_paid: double (nullable = true)\n",
      " |-- customer_from: date (nullable = true)\n",
      " |-- last_updated_ts: timestamp (nullable = true)\n",
      "\n"
     ]
    }
   ],
   "source": [
    "users_df.printSchema()"
   ]
  },
  {
   "cell_type": "code",
   "execution_count": 2,
   "id": "88d6a1ff",
   "metadata": {
    "scrolled": true
   },
   "outputs": [
    {
     "name": "stdout",
     "output_type": "stream",
     "text": [
      "Help on class Row in module pyspark.sql.types:\n",
      "\n",
      "class Row(builtins.tuple)\n",
      " |  Row(*args, **kwargs)\n",
      " |  \n",
      " |  A row in :class:`DataFrame`.\n",
      " |  The fields in it can be accessed:\n",
      " |  \n",
      " |  * like attributes (``row.key``)\n",
      " |  * like dictionary values (``row[key]``)\n",
      " |  \n",
      " |  ``key in row`` will search through row keys.\n",
      " |  \n",
      " |  Row can be used to create a row object by using named arguments.\n",
      " |  It is not allowed to omit a named argument to represent that the value is\n",
      " |  None or missing. This should be explicitly set to None in this case.\n",
      " |  \n",
      " |  .. versionchanged:: 3.0.0\n",
      " |      Rows created from named arguments no longer have\n",
      " |      field names sorted alphabetically and will be ordered in the position as\n",
      " |      entered.\n",
      " |  \n",
      " |  Examples\n",
      " |  --------\n",
      " |  >>> row = Row(name=\"Alice\", age=11)\n",
      " |  >>> row\n",
      " |  Row(name='Alice', age=11)\n",
      " |  >>> row['name'], row['age']\n",
      " |  ('Alice', 11)\n",
      " |  >>> row.name, row.age\n",
      " |  ('Alice', 11)\n",
      " |  >>> 'name' in row\n",
      " |  True\n",
      " |  >>> 'wrong_key' in row\n",
      " |  False\n",
      " |  \n",
      " |  Row also can be used to create another Row like class, then it\n",
      " |  could be used to create Row objects, such as\n",
      " |  \n",
      " |  >>> Person = Row(\"name\", \"age\")\n",
      " |  >>> Person\n",
      " |  <Row('name', 'age')>\n",
      " |  >>> 'name' in Person\n",
      " |  True\n",
      " |  >>> 'wrong_key' in Person\n",
      " |  False\n",
      " |  >>> Person(\"Alice\", 11)\n",
      " |  Row(name='Alice', age=11)\n",
      " |  \n",
      " |  This form can also be used to create rows as tuple values, i.e. with unnamed\n",
      " |  fields.\n",
      " |  \n",
      " |  >>> row1 = Row(\"Alice\", 11)\n",
      " |  >>> row2 = Row(name=\"Alice\", age=11)\n",
      " |  >>> row1 == row2\n",
      " |  True\n",
      " |  \n",
      " |  Method resolution order:\n",
      " |      Row\n",
      " |      builtins.tuple\n",
      " |      builtins.object\n",
      " |  \n",
      " |  Methods defined here:\n",
      " |  \n",
      " |  __call__(self, *args)\n",
      " |      create new Row object\n",
      " |  \n",
      " |  __contains__(self, item)\n",
      " |      Return key in self.\n",
      " |  \n",
      " |  __getattr__(self, item)\n",
      " |  \n",
      " |  __getitem__(self, item)\n",
      " |      Return self[key].\n",
      " |  \n",
      " |  __reduce__(self)\n",
      " |      Returns a tuple so Python knows how to pickle Row.\n",
      " |  \n",
      " |  __repr__(self)\n",
      " |      Printable representation of Row used in Python REPL.\n",
      " |  \n",
      " |  __setattr__(self, key, value)\n",
      " |      Implement setattr(self, name, value).\n",
      " |  \n",
      " |  asDict(self, recursive=False)\n",
      " |      Return as a dict\n",
      " |      \n",
      " |      Parameters\n",
      " |      ----------\n",
      " |      recursive : bool, optional\n",
      " |          turns the nested Rows to dict (default: False).\n",
      " |      \n",
      " |      Notes\n",
      " |      -----\n",
      " |      If a row contains duplicate field names, e.g., the rows of a join\n",
      " |      between two :class:`DataFrame` that both have the fields of same names,\n",
      " |      one of the duplicate fields will be selected by ``asDict``. ``__getitem__``\n",
      " |      will also return one of the duplicate fields, however returned value might\n",
      " |      be different to ``asDict``.\n",
      " |      \n",
      " |      Examples\n",
      " |      --------\n",
      " |      >>> Row(name=\"Alice\", age=11).asDict() == {'name': 'Alice', 'age': 11}\n",
      " |      True\n",
      " |      >>> row = Row(key=1, value=Row(name='a', age=2))\n",
      " |      >>> row.asDict() == {'key': 1, 'value': Row(name='a', age=2)}\n",
      " |      True\n",
      " |      >>> row.asDict(True) == {'key': 1, 'value': {'name': 'a', 'age': 2}}\n",
      " |      True\n",
      " |  \n",
      " |  ----------------------------------------------------------------------\n",
      " |  Static methods defined here:\n",
      " |  \n",
      " |  __new__(cls, *args, **kwargs)\n",
      " |      Create and return a new object.  See help(type) for accurate signature.\n",
      " |  \n",
      " |  ----------------------------------------------------------------------\n",
      " |  Data descriptors defined here:\n",
      " |  \n",
      " |  __dict__\n",
      " |      dictionary for instance variables (if defined)\n",
      " |  \n",
      " |  ----------------------------------------------------------------------\n",
      " |  Methods inherited from builtins.tuple:\n",
      " |  \n",
      " |  __add__(self, value, /)\n",
      " |      Return self+value.\n",
      " |  \n",
      " |  __eq__(self, value, /)\n",
      " |      Return self==value.\n",
      " |  \n",
      " |  __ge__(self, value, /)\n",
      " |      Return self>=value.\n",
      " |  \n",
      " |  __getattribute__(self, name, /)\n",
      " |      Return getattr(self, name).\n",
      " |  \n",
      " |  __getnewargs__(self, /)\n",
      " |  \n",
      " |  __gt__(self, value, /)\n",
      " |      Return self>value.\n",
      " |  \n",
      " |  __hash__(self, /)\n",
      " |      Return hash(self).\n",
      " |  \n",
      " |  __iter__(self, /)\n",
      " |      Implement iter(self).\n",
      " |  \n",
      " |  __le__(self, value, /)\n",
      " |      Return self<=value.\n",
      " |  \n",
      " |  __len__(self, /)\n",
      " |      Return len(self).\n",
      " |  \n",
      " |  __lt__(self, value, /)\n",
      " |      Return self<value.\n",
      " |  \n",
      " |  __mul__(self, value, /)\n",
      " |      Return self*value.\n",
      " |  \n",
      " |  __ne__(self, value, /)\n",
      " |      Return self!=value.\n",
      " |  \n",
      " |  __rmul__(self, value, /)\n",
      " |      Return value*self.\n",
      " |  \n",
      " |  count(self, value, /)\n",
      " |      Return number of occurrences of value.\n",
      " |  \n",
      " |  index(self, value, start=0, stop=9223372036854775807, /)\n",
      " |      Return first index of value.\n",
      " |      \n",
      " |      Raises ValueError if the value is not present.\n",
      " |  \n",
      " |  ----------------------------------------------------------------------\n",
      " |  Class methods inherited from builtins.tuple:\n",
      " |  \n",
      " |  __class_getitem__(...) from builtins.type\n",
      " |      See PEP 585\n",
      "\n"
     ]
    }
   ],
   "source": [
    "help(Row)"
   ]
  },
  {
   "cell_type": "code",
   "execution_count": 4,
   "id": "39293b03",
   "metadata": {},
   "outputs": [],
   "source": [
    "# we have two methods : Filter and \n",
    "#                        where"
   ]
  },
  {
   "cell_type": "code",
   "execution_count": 9,
   "id": "238ffff5",
   "metadata": {},
   "outputs": [
    {
     "name": "stdout",
     "output_type": "stream",
     "text": [
      "Help on method filter in module pyspark.sql.dataframe:\n",
      "\n",
      "filter(condition) method of pyspark.sql.dataframe.DataFrame instance\n",
      "    Filters rows using the given condition.\n",
      "    \n",
      "    :func:`where` is an alias for :func:`filter`.\n",
      "    \n",
      "    .. versionadded:: 1.3.0\n",
      "    \n",
      "    Parameters\n",
      "    ----------\n",
      "    condition : :class:`Column` or str\n",
      "        a :class:`Column` of :class:`types.BooleanType`\n",
      "        or a string of SQL expression.\n",
      "    \n",
      "    Examples\n",
      "    --------\n",
      "    >>> df.filter(df.age > 3).collect()\n",
      "    [Row(age=5, name='Bob')]\n",
      "    >>> df.where(df.age == 2).collect()\n",
      "    [Row(age=2, name='Alice')]\n",
      "    \n",
      "    >>> df.filter(\"age > 3\").collect()\n",
      "    [Row(age=5, name='Bob')]\n",
      "    >>> df.where(\"age = 2\").collect()\n",
      "    [Row(age=2, name='Alice')]\n",
      "\n"
     ]
    }
   ],
   "source": [
    "help(users_df.filter)\n",
    "\n",
    "# filter takes a single string sql expresiion\n",
    "\n",
    "# we can use sql and non-sql based filtering\n",
    "\n",
    "# first one is non-sql based filtering\n",
    "\n",
    "# For Non SQL Style we can pass columns using col function on column name as string or \n",
    "#                            using the notation ofdf['column_name']"
   ]
  },
  {
   "cell_type": "code",
   "execution_count": 8,
   "id": "baf5d9ae",
   "metadata": {},
   "outputs": [
    {
     "name": "stdout",
     "output_type": "stream",
     "text": [
      "Help on method filter in module pyspark.sql.dataframe:\n",
      "\n",
      "filter(condition) method of pyspark.sql.dataframe.DataFrame instance\n",
      "    :func:`where` is an alias for :func:`filter`.\n",
      "    \n",
      "    .. versionadded:: 1.3\n",
      "\n"
     ]
    }
   ],
   "source": [
    "help(users_df.where)"
   ]
  },
  {
   "cell_type": "code",
   "execution_count": 15,
   "id": "f3046b21",
   "metadata": {},
   "outputs": [
    {
     "name": "stdout",
     "output_type": "stream",
     "text": [
      "+---+----------+------------+--------------------+------+------------+--------------------+-------+-----------+-----------+-------------+-------------------+\n",
      "| id|first_name|   last_name|               email|gender|current_city|       phone_numbers|courses|is_customer|amount_paid|customer_from|    last_updated_ts|\n",
      "+---+----------+------------+--------------------+------+------------+--------------------+-------+-----------+-----------+-------------+-------------------+\n",
      "|  1|    Corrie|Van den Oord|cvandenoord0@etsy...|  male|      Dallas|{+1 234 567 8901,...| [1, 2]|       true|    1000.55|   2021-01-15|2021-02-10 01:15:00|\n",
      "+---+----------+------------+--------------------+------+------------+--------------------+-------+-----------+-----------+-------------+-------------------+\n",
      "\n",
      "*******************\n",
      "+---+----------+------------+--------------------+------+------------+--------------------+-------+-----------+-----------+-------------+-------------------+\n",
      "| id|first_name|   last_name|               email|gender|current_city|       phone_numbers|courses|is_customer|amount_paid|customer_from|    last_updated_ts|\n",
      "+---+----------+------------+--------------------+------+------------+--------------------+-------+-----------+-----------+-------------+-------------------+\n",
      "|  1|    Corrie|Van den Oord|cvandenoord0@etsy...|  male|      Dallas|{+1 234 567 8901,...| [1, 2]|       true|    1000.55|   2021-01-15|2021-02-10 01:15:00|\n",
      "+---+----------+------------+--------------------+------+------------+--------------------+-------+-----------+-----------+-------------+-------------------+\n",
      "\n",
      "*******************\n",
      "+---+----------+------------+--------------------+------+------------+--------------------+-------+-----------+-----------+-------------+-------------------+\n",
      "| id|first_name|   last_name|               email|gender|current_city|       phone_numbers|courses|is_customer|amount_paid|customer_from|    last_updated_ts|\n",
      "+---+----------+------------+--------------------+------+------------+--------------------+-------+-----------+-----------+-------------+-------------------+\n",
      "|  1|    Corrie|Van den Oord|cvandenoord0@etsy...|  male|      Dallas|{+1 234 567 8901,...| [1, 2]|       true|    1000.55|   2021-01-15|2021-02-10 01:15:00|\n",
      "+---+----------+------------+--------------------+------+------------+--------------------+-------+-----------+-----------+-------------+-------------------+\n",
      "\n"
     ]
    }
   ],
   "source": [
    "\n",
    "\n",
    "## Non-sql type syntax\n",
    "\n",
    "\n",
    "from pyspark.sql.functions import col\n",
    "\n",
    "users_df.where(col(\"id\")==1).show()\n",
    "\n",
    "print(\"*\"*19)\n",
    "\n",
    "users_df.filter(col(\"id\")==1).show()\n",
    "\n",
    "print(\"*\"*19)\n",
    "\n",
    "users_df.filter(users_df[\"id\"]==1).show()"
   ]
  },
  {
   "cell_type": "code",
   "execution_count": 20,
   "id": "ff797a61",
   "metadata": {},
   "outputs": [
    {
     "name": "stdout",
     "output_type": "stream",
     "text": [
      "+---+----------+------------+--------------------+------+------------+--------------------+-------+-----------+-----------+-------------+-------------------+\n",
      "| id|first_name|   last_name|               email|gender|current_city|       phone_numbers|courses|is_customer|amount_paid|customer_from|    last_updated_ts|\n",
      "+---+----------+------------+--------------------+------+------------+--------------------+-------+-----------+-----------+-------------+-------------------+\n",
      "|  1|    Corrie|Van den Oord|cvandenoord0@etsy...|  male|      Dallas|{+1 234 567 8901,...| [1, 2]|       true|    1000.55|   2021-01-15|2021-02-10 01:15:00|\n",
      "+---+----------+------------+--------------------+------+------------+--------------------+-------+-----------+-----------+-------------+-------------------+\n",
      "\n",
      "+---+----------+------------+--------------------+------+------------+--------------------+-------+-----------+-----------+-------------+-------------------+\n",
      "| id|first_name|   last_name|               email|gender|current_city|       phone_numbers|courses|is_customer|amount_paid|customer_from|    last_updated_ts|\n",
      "+---+----------+------------+--------------------+------+------------+--------------------+-------+-----------+-----------+-------------+-------------------+\n",
      "|  1|    Corrie|Van den Oord|cvandenoord0@etsy...|  male|      Dallas|{+1 234 567 8901,...| [1, 2]|       true|    1000.55|   2021-01-15|2021-02-10 01:15:00|\n",
      "+---+----------+------------+--------------------+------+------------+--------------------+-------+-----------+-----------+-------------+-------------------+\n",
      "\n",
      "*******************************************************************************\n",
      "+---+----------+------------+--------------------+------+------------+--------------------+-------+-----------+-----------+-------------+-------------------+\n",
      "| id|first_name|   last_name|               email|gender|current_city|       phone_numbers|courses|is_customer|amount_paid|customer_from|    last_updated_ts|\n",
      "+---+----------+------------+--------------------+------+------------+--------------------+-------+-----------+-----------+-------------+-------------------+\n",
      "|  1|    Corrie|Van den Oord|cvandenoord0@etsy...|  male|      Dallas|{+1 234 567 8901,...| [1, 2]|       true|    1000.55|   2021-01-15|2021-02-10 01:15:00|\n",
      "+---+----------+------------+--------------------+------+------------+--------------------+-------+-----------+-----------+-------------+-------------------+\n",
      "\n"
     ]
    }
   ],
   "source": [
    "\n",
    "## SQL type syntax\n",
    "\n",
    "# filter takes a single string sql expresiion\n",
    "\n",
    "users_df.filter('id = 1').show()\n",
    "\n",
    "# or\n",
    "\n",
    "users_df.filter('id == 1').show()\n",
    "\n",
    "# using where\n",
    "\n",
    "print(\"*\"*79,end=\"\\n\")\n",
    "\n",
    "users_df.where('id == 1').show()\n"
   ]
  },
  {
   "cell_type": "code",
   "execution_count": 22,
   "id": "3c8518fe",
   "metadata": {},
   "outputs": [
    {
     "name": "stdout",
     "output_type": "stream",
     "text": [
      "+---+----------+------------+--------------------+------+------------+--------------------+-------+-----------+-----------+-------------+-------------------+\n",
      "| id|first_name|   last_name|               email|gender|current_city|       phone_numbers|courses|is_customer|amount_paid|customer_from|    last_updated_ts|\n",
      "+---+----------+------------+--------------------+------+------------+--------------------+-------+-----------+-----------+-------------+-------------------+\n",
      "|  1|    Corrie|Van den Oord|cvandenoord0@etsy...|  male|      Dallas|{+1 234 567 8901,...| [1, 2]|       true|    1000.55|   2021-01-15|2021-02-10 01:15:00|\n",
      "+---+----------+------------+--------------------+------+------------+--------------------+-------+-----------+-----------+-------------+-------------------+\n",
      "\n"
     ]
    }
   ],
   "source": [
    "## using spark sql\n",
    "\n",
    "\n",
    "users_df.createOrReplaceTempView(\"users\")\n",
    "\n",
    "spark.sql(\"\"\"\n",
    "SELECT * FROM users where id = 1\n",
    "\n",
    "\"\"\").show()"
   ]
  },
  {
   "cell_type": "code",
   "execution_count": null,
   "id": "c8d1f108",
   "metadata": {},
   "outputs": [],
   "source": []
  },
  {
   "cell_type": "code",
   "execution_count": null,
   "id": "cb2f617e",
   "metadata": {},
   "outputs": [],
   "source": []
  },
  {
   "cell_type": "code",
   "execution_count": null,
   "id": "b3d4484d",
   "metadata": {},
   "outputs": [],
   "source": []
  },
  {
   "cell_type": "markdown",
   "id": "e52df555",
   "metadata": {},
   "source": [
    "## Operators "
   ]
  },
  {
   "cell_type": "code",
   "execution_count": 23,
   "id": "cb4327b3",
   "metadata": {},
   "outputs": [],
   "source": [
    "# Equal -> = or ==\n",
    "\n",
    "# Not Equal -> !=\n",
    "\n",
    "# Greater Than -> >\n",
    "\n",
    "# Less Than -> <\n",
    "\n",
    "# Greater Than or Equal To -> >=\n",
    "\n",
    "# Less Than or Equal To -> <=\n",
    "\n",
    "# IN Operator -> isin function or IN or contains function\n",
    "\n",
    "# Between Operator -> between function or BETWEEN with AND"
   ]
  },
  {
   "cell_type": "code",
   "execution_count": 38,
   "id": "ea73dd42",
   "metadata": {},
   "outputs": [
    {
     "name": "stdout",
     "output_type": "stream",
     "text": [
      "+---+----------+------------+--------------------+------+------------+--------------------+-------+-----------+-----------+-------------+-------------------+\n",
      "| id|first_name|   last_name|               email|gender|current_city|       phone_numbers|courses|is_customer|amount_paid|customer_from|    last_updated_ts|\n",
      "+---+----------+------------+--------------------+------+------------+--------------------+-------+-----------+-----------+-------------+-------------------+\n",
      "|  1|    Corrie|Van den Oord|cvandenoord0@etsy...|  male|      Dallas|{+1 234 567 8901,...| [1, 2]|       true|    1000.55|   2021-01-15|2021-02-10 01:15:00|\n",
      "|  2|  Nikolaus|     Brewitt|nbrewitt1@dailyma...|  male|     Houston|{+1 234 567 8923,...|    [3]|       true|      900.0|   2021-02-14|2021-02-18 03:33:00|\n",
      "|  3|    Orelie|      Penney|openney2@vistapri...|female|            |{+1 714 512 9752,...| [2, 4]|       true|     850.55|   2021-01-21|2021-03-15 15:16:55|\n",
      "+---+----------+------------+--------------------+------+------------+--------------------+-------+-----------+-----------+-------------+-------------------+\n",
      "\n",
      "+---+----------+------------+--------------------+------+------------+--------------------+-------+-----------+-----------+-------------+-------------------+\n",
      "| id|first_name|   last_name|               email|gender|current_city|       phone_numbers|courses|is_customer|amount_paid|customer_from|    last_updated_ts|\n",
      "+---+----------+------------+--------------------+------+------------+--------------------+-------+-----------+-----------+-------------+-------------------+\n",
      "|  1|    Corrie|Van den Oord|cvandenoord0@etsy...|  male|      Dallas|{+1 234 567 8901,...| [1, 2]|       true|    1000.55|   2021-01-15|2021-02-10 01:15:00|\n",
      "|  2|  Nikolaus|     Brewitt|nbrewitt1@dailyma...|  male|     Houston|{+1 234 567 8923,...|    [3]|       true|      900.0|   2021-02-14|2021-02-18 03:33:00|\n",
      "|  3|    Orelie|      Penney|openney2@vistapri...|female|            |{+1 714 512 9752,...| [2, 4]|       true|     850.55|   2021-01-21|2021-03-15 15:16:55|\n",
      "+---+----------+------------+--------------------+------+------------+--------------------+-------+-----------+-----------+-------------+-------------------+\n",
      "\n",
      "%%%%%%%%%%%%%%%%%%%%%%%%%%%%%%%%%%%%%%%%%%%%%%%%%%%%%%%%%%%%%%%%%%%%%%%%%%%%%%%%%%%%%%%%%%%%%%%%%%%%%%%%%%%%%%%%%%%%%%%%%%%%%%%%%%%%%%%%%%%%%%%%%%\n",
      "+---+----------+------------+--------------------+------+------------+--------------------+-------+-----------+-----------+-------------+-------------------+\n",
      "| id|first_name|   last_name|               email|gender|current_city|       phone_numbers|courses|is_customer|amount_paid|customer_from|    last_updated_ts|\n",
      "+---+----------+------------+--------------------+------+------------+--------------------+-------+-----------+-----------+-------------+-------------------+\n",
      "|  1|    Corrie|Van den Oord|cvandenoord0@etsy...|  male|      Dallas|{+1 234 567 8901,...| [1, 2]|       true|    1000.55|   2021-01-15|2021-02-10 01:15:00|\n",
      "|  2|  Nikolaus|     Brewitt|nbrewitt1@dailyma...|  male|     Houston|{+1 234 567 8923,...|    [3]|       true|      900.0|   2021-02-14|2021-02-18 03:33:00|\n",
      "|  3|    Orelie|      Penney|openney2@vistapri...|female|            |{+1 714 512 9752,...| [2, 4]|       true|     850.55|   2021-01-21|2021-03-15 15:16:55|\n",
      "+---+----------+------------+--------------------+------+------------+--------------------+-------+-----------+-----------+-------------+-------------------+\n",
      "\n"
     ]
    }
   ],
   "source": [
    "## Get list of customer ( is_customer flag is set to true)\n",
    "\n",
    "users_df.filter( col(\"is_customer\") == \"true\").show()\n",
    "\n",
    "\n",
    "#users_df.where( col(\"is_customer\") == \"true\").show()\n",
    "\n",
    "\n",
    "users_df.filter( \"is_customer == true\").show()\n",
    "\n",
    "# or\n",
    "# users_df.filter( \"is_customer = true\").show() [ with single = only ]\n",
    "\n",
    "\n",
    "\n",
    "# SPARK SQL\n",
    "\n",
    "print(\"%%\"*73)\n",
    "\n",
    "users_df.createOrReplaceTempView(\"users\")\n",
    "\n",
    "spark.sql(\"\"\"\n",
    "\n",
    "select * from users where is_customer =1\n",
    "\n",
    "\"\"\").show()"
   ]
  },
  {
   "cell_type": "code",
   "execution_count": 36,
   "id": "901de53e",
   "metadata": {},
   "outputs": [
    {
     "name": "stdout",
     "output_type": "stream",
     "text": [
      "+---+----------+------------+--------------------+------+-------------+--------------------+-------+-----------+-----------+-------------+-------------------+\n",
      "| id|first_name|   last_name|               email|gender| current_city|       phone_numbers|courses|is_customer|amount_paid|customer_from|    last_updated_ts|\n",
      "+---+----------+------------+--------------------+------+-------------+--------------------+-------+-----------+-----------+-------------+-------------------+\n",
      "|  1|    Corrie|Van den Oord|cvandenoord0@etsy...|  male|       Dallas|{+1 234 567 8901,...| [1, 2]|       true|    1000.55|   2021-01-15|2021-02-10 01:15:00|\n",
      "|  2|  Nikolaus|     Brewitt|nbrewitt1@dailyma...|  male|      Houston|{+1 234 567 8923,...|    [3]|       true|      900.0|   2021-02-14|2021-02-18 03:33:00|\n",
      "|  3|    Orelie|      Penney|openney2@vistapri...|female|             |{+1 714 512 9752,...| [2, 4]|       true|     850.55|   2021-01-21|2021-03-15 15:16:55|\n",
      "|  4|     Ashby|    Maddocks|  amaddocks3@home.pl|  male|San Fransisco|        {null, null}|     []|      false|        NaN|         null|2021-04-10 17:45:30|\n",
      "|  5|      Kurt|        Rome|krome4@shutterfly...|female|         null|{+1 817 934 7142,...|     []|      false|        NaN|         null|2021-04-02 00:55:18|\n",
      "+---+----------+------------+--------------------+------+-------------+--------------------+-------+-----------+-----------+-------------+-------------------+\n",
      "\n"
     ]
    }
   ],
   "source": [
    "users_df.show()"
   ]
  },
  {
   "cell_type": "code",
   "execution_count": 40,
   "id": "2bb94d6c",
   "metadata": {},
   "outputs": [
    {
     "name": "stdout",
     "output_type": "stream",
     "text": [
      "+---+----------+------------+--------------------+------+------------+--------------------+-------+-----------+-----------+-------------+-------------------+\n",
      "| id|first_name|   last_name|               email|gender|current_city|       phone_numbers|courses|is_customer|amount_paid|customer_from|    last_updated_ts|\n",
      "+---+----------+------------+--------------------+------+------------+--------------------+-------+-----------+-----------+-------------+-------------------+\n",
      "|  1|    Corrie|Van den Oord|cvandenoord0@etsy...|  male|      Dallas|{+1 234 567 8901,...| [1, 2]|       true|    1000.55|   2021-01-15|2021-02-10 01:15:00|\n",
      "+---+----------+------------+--------------------+------+------------+--------------------+-------+-----------+-----------+-------------+-------------------+\n",
      "\n",
      "+---+----------+------------+--------------------+------+------------+--------------------+-------+-----------+-----------+-------------+-------------------+\n",
      "| id|first_name|   last_name|               email|gender|current_city|       phone_numbers|courses|is_customer|amount_paid|customer_from|    last_updated_ts|\n",
      "+---+----------+------------+--------------------+------+------------+--------------------+-------+-----------+-----------+-------------+-------------------+\n",
      "|  1|    Corrie|Van den Oord|cvandenoord0@etsy...|  male|      Dallas|{+1 234 567 8901,...| [1, 2]|       true|    1000.55|   2021-01-15|2021-02-10 01:15:00|\n",
      "+---+----------+------------+--------------------+------+------------+--------------------+-------+-----------+-----------+-------------+-------------------+\n",
      "\n"
     ]
    }
   ],
   "source": [
    "## Get users from Dallas\n",
    "\n",
    "users_df.filter(col(\"current_city\") == \"Dallas\").show()\n",
    "\n",
    "# users_df.where(col(\"current_city\") == \"Dallas\").show()\n",
    "\n",
    "users_df.filter('current_city = \"Dallas\" ').show()"
   ]
  },
  {
   "cell_type": "code",
   "execution_count": 41,
   "id": "0c64b952",
   "metadata": {},
   "outputs": [
    {
     "name": "stdout",
     "output_type": "stream",
     "text": [
      "+-----------+------------------+\n",
      "|amount_paid|isnan(amount_paid)|\n",
      "+-----------+------------------+\n",
      "|    1000.55|             false|\n",
      "|      900.0|             false|\n",
      "|     850.55|             false|\n",
      "|        NaN|              true|\n",
      "|        NaN|              true|\n",
      "+-----------+------------------+\n",
      "\n"
     ]
    }
   ],
   "source": [
    "\n",
    "## Get the customers where paid amount is not a number\n",
    "\n",
    "\n",
    "from pyspark.sql.functions import isnan\n",
    "\n",
    "users_df.select('amount_paid',isnan(\"amount_paid\")).show()\n"
   ]
  },
  {
   "cell_type": "code",
   "execution_count": 42,
   "id": "ebdffae7",
   "metadata": {},
   "outputs": [
    {
     "name": "stdout",
     "output_type": "stream",
     "text": [
      "+---+----------+---------+--------------------+------+-------------+--------------------+-------+-----------+-----------+-------------+-------------------+\n",
      "| id|first_name|last_name|               email|gender| current_city|       phone_numbers|courses|is_customer|amount_paid|customer_from|    last_updated_ts|\n",
      "+---+----------+---------+--------------------+------+-------------+--------------------+-------+-----------+-----------+-------------+-------------------+\n",
      "|  4|     Ashby| Maddocks|  amaddocks3@home.pl|  male|San Fransisco|        {null, null}|     []|      false|        NaN|         null|2021-04-10 17:45:30|\n",
      "|  5|      Kurt|     Rome|krome4@shutterfly...|female|         null|{+1 817 934 7142,...|     []|      false|        NaN|         null|2021-04-02 00:55:18|\n",
      "+---+----------+---------+--------------------+------+-------------+--------------------+-------+-----------+-----------+-------------+-------------------+\n",
      "\n"
     ]
    }
   ],
   "source": [
    "\n",
    "users_df.filter(isnan(\"amount_paid\") == True).show()"
   ]
  },
  {
   "cell_type": "code",
   "execution_count": 46,
   "id": "a2702bf9",
   "metadata": {},
   "outputs": [
    {
     "name": "stdout",
     "output_type": "stream",
     "text": [
      "+---+----------+---------+--------------------+------+-------------+--------------------+-------+-----------+-----------+-------------+-------------------+\n",
      "| id|first_name|last_name|               email|gender| current_city|       phone_numbers|courses|is_customer|amount_paid|customer_from|    last_updated_ts|\n",
      "+---+----------+---------+--------------------+------+-------------+--------------------+-------+-----------+-----------+-------------+-------------------+\n",
      "|  4|     Ashby| Maddocks|  amaddocks3@home.pl|  male|San Fransisco|        {null, null}|     []|      false|        NaN|         null|2021-04-10 17:45:30|\n",
      "|  5|      Kurt|     Rome|krome4@shutterfly...|female|         null|{+1 817 934 7142,...|     []|      false|        NaN|         null|2021-04-02 00:55:18|\n",
      "+---+----------+---------+--------------------+------+-------------+--------------------+-------+-----------+-----------+-------------+-------------------+\n",
      "\n"
     ]
    }
   ],
   "source": [
    "users_df.filter('isnan(amount_paid) == \"true\"').show()\n",
    "\n",
    "# or \n",
    "\n",
    "# users_df.filter('isnan(amount_paid) == True').show()"
   ]
  },
  {
   "cell_type": "code",
   "execution_count": null,
   "id": "1de77437",
   "metadata": {},
   "outputs": [],
   "source": []
  },
  {
   "cell_type": "markdown",
   "id": "57819989",
   "metadata": {},
   "source": [
    "## Filter using Not Equal"
   ]
  },
  {
   "cell_type": "code",
   "execution_count": 53,
   "id": "6a017396",
   "metadata": {},
   "outputs": [
    {
     "name": "stdout",
     "output_type": "stream",
     "text": [
      "+---+----------+---------+--------------------+------+-------------+--------------------+-------+-----------+-----------+-------------+-------------------+\n",
      "| id|first_name|last_name|               email|gender| current_city|       phone_numbers|courses|is_customer|amount_paid|customer_from|    last_updated_ts|\n",
      "+---+----------+---------+--------------------+------+-------------+--------------------+-------+-----------+-----------+-------------+-------------------+\n",
      "|  2|  Nikolaus|  Brewitt|nbrewitt1@dailyma...|  male|      Houston|{+1 234 567 8923,...|    [3]|       true|      900.0|   2021-02-14|2021-02-18 03:33:00|\n",
      "|  3|    Orelie|   Penney|openney2@vistapri...|female|             |{+1 714 512 9752,...| [2, 4]|       true|     850.55|   2021-01-21|2021-03-15 15:16:55|\n",
      "|  4|     Ashby| Maddocks|  amaddocks3@home.pl|  male|San Fransisco|        {null, null}|     []|      false|        NaN|         null|2021-04-10 17:45:30|\n",
      "+---+----------+---------+--------------------+------+-------------+--------------------+-------+-----------+-----------+-------------+-------------------+\n",
      "\n",
      "+---+-------------+----------+\n",
      "| id| current_city|first_name|\n",
      "+---+-------------+----------+\n",
      "|  2|      Houston|  Nikolaus|\n",
      "|  3|             |    Orelie|\n",
      "|  4|San Fransisco|     Ashby|\n",
      "+---+-------------+----------+\n",
      "\n"
     ]
    }
   ],
   "source": [
    "\n",
    "## Get all the users who are not living in Dallas.\n",
    "\n",
    "\n",
    "users_df.filter(col(\"current_city\") != \"Dallas\" ).show() # On-sql type synatx\n",
    "\n",
    "\n",
    "\n",
    "users_df. \\\n",
    "    select('id', 'current_city',\"first_name\"). \\\n",
    "    filter(col('current_city') != 'Dallas'). \\\n",
    "    show()\n",
    "\n",
    "# or \n",
    "\n",
    "# users_df.filter(col(\"current_city\") != \"Dallas\" ).select(\"id\",\"current_city\").show()\n",
    "\n",
    "\n",
    "# or --- users_df.filter('current_city != \"Dallas\" ').show()"
   ]
  },
  {
   "cell_type": "code",
   "execution_count": 59,
   "id": "f49621df",
   "metadata": {},
   "outputs": [
    {
     "name": "stdout",
     "output_type": "stream",
     "text": [
      "+---+-------------+\n",
      "| id| current_city|\n",
      "+---+-------------+\n",
      "|  2|      Houston|\n",
      "|  3|             |\n",
      "|  4|San Fransisco|\n",
      "|  5|         null|\n",
      "+---+-------------+\n",
      "\n"
     ]
    }
   ],
   "source": [
    "# To indulge the Null values for city\n",
    "\n",
    "users_df.select(\"id\",\"current_city\").\\\n",
    "         filter((col(\"current_city\") != \"Dallas\" ) | col(\"current_city\").isNull()).show()\n",
    "\n",
    "\n",
    "# SQL TYPE SYNTAX\n",
    "\n",
    "# users_df.select(\"id\",\"current_city\").\\\n",
    "#         filter( ' current_city != \"Dallas\" OR current_city is NULL ' ).show()\n",
    "\n"
   ]
  },
  {
   "cell_type": "code",
   "execution_count": 77,
   "id": "6e55097d",
   "metadata": {},
   "outputs": [
    {
     "name": "stdout",
     "output_type": "stream",
     "text": [
      "+-------------------+-------------+\n",
      "|          Full_name| current_city|\n",
      "+-------------------+-------------+\n",
      "|Corrie Van den Oord|       Dallas|\n",
      "|   Nikolaus Brewitt|      Houston|\n",
      "|     Ashby Maddocks|San Fransisco|\n",
      "+-------------------+-------------+\n",
      "\n"
     ]
    }
   ],
   "source": [
    "\n",
    "## Get all the users whose city name is not empty string.Nulls can be ignored\n",
    "\n",
    "\n",
    "from pyspark.sql.functions import concat,lit,col\n",
    "\n",
    "users_df.select(concat(\"first_name\",lit(\" \"),\"last_name\").alias(\"Full_name\"),\"current_city\").\\\n",
    "            filter(' current_city != \"\" AND current_city is NOT NULL').show()"
   ]
  },
  {
   "cell_type": "code",
   "execution_count": null,
   "id": "d690ca99",
   "metadata": {},
   "outputs": [],
   "source": []
  },
  {
   "cell_type": "code",
   "execution_count": null,
   "id": "e69c4c17",
   "metadata": {},
   "outputs": [],
   "source": []
  },
  {
   "cell_type": "markdown",
   "id": "69d9877e",
   "metadata": {},
   "source": [
    "## Filter using between\n",
    "\n",
    "\n",
    "between is used on col objects eg: col(\"id\").between(1,5)"
   ]
  },
  {
   "cell_type": "code",
   "execution_count": 79,
   "id": "cc4477cb",
   "metadata": {},
   "outputs": [],
   "source": [
    "## Get user id and email \n",
    "#        whose last updated timestamp is between 2021 Feb 15th and 2021 March 15th."
   ]
  },
  {
   "cell_type": "code",
   "execution_count": 107,
   "id": "b7ad1c7f",
   "metadata": {},
   "outputs": [
    {
     "name": "stdout",
     "output_type": "stream",
     "text": [
      "+---+--------------------+-------------------+\n",
      "| id|               email|    last_updated_ts|\n",
      "+---+--------------------+-------------------+\n",
      "|  2|nbrewitt1@dailyma...|2021-02-18 03:33:00|\n",
      "|  3|openney2@vistapri...|2021-03-15 15:16:55|\n",
      "+---+--------------------+-------------------+\n",
      "\n"
     ]
    }
   ],
   "source": [
    "from pyspark.sql.functions import to_date,date_format\n",
    "\n",
    "# to_date - to convert non standard time to standard time\n",
    "\n",
    "# date_format - to extract the values in date/time\n",
    "\n",
    "users_df.select(\"id\",\"email\",\"last_updated_ts\").\\\n",
    "        filter(date_format(\"last_updated_ts\",\"yyyy MMM dd\").\\\n",
    "        between( \"2021 Feb 15\", \"2021 Mar 15\")).show()"
   ]
  },
  {
   "cell_type": "code",
   "execution_count": 106,
   "id": "bae0d874",
   "metadata": {},
   "outputs": [
    {
     "name": "stdout",
     "output_type": "stream",
     "text": [
      "+---+--------------------+-------------------+-----------+\n",
      "| id|               email|    last_updated_ts|          a|\n",
      "+---+--------------------+-------------------+-----------+\n",
      "|  2|nbrewitt1@dailyma...|2021-02-18 03:33:00|2021 Feb 18|\n",
      "|  3|openney2@vistapri...|2021-03-15 15:16:55|2021 Mar 15|\n",
      "+---+--------------------+-------------------+-----------+\n",
      "\n"
     ]
    }
   ],
   "source": [
    "\n",
    "users_df.select(\"id\",\"email\",\"last_updated_ts\",date_format(\"last_updated_ts\",\"yyyy MMM dd\").alias(\"a\")).\\\n",
    "            filter('a >= \"2021 Feb 18\" ').show()\n"
   ]
  },
  {
   "cell_type": "code",
   "execution_count": 109,
   "id": "646e6955",
   "metadata": {},
   "outputs": [
    {
     "name": "stdout",
     "output_type": "stream",
     "text": [
      "+---+--------------------+-------------------+\n",
      "| id|               email|    last_updated_ts|\n",
      "+---+--------------------+-------------------+\n",
      "|  2|nbrewitt1@dailyma...|2021-02-18 03:33:00|\n",
      "|  3|openney2@vistapri...|2021-03-15 15:16:55|\n",
      "+---+--------------------+-------------------+\n",
      "\n"
     ]
    }
   ],
   "source": [
    "\n",
    "# Another way\n",
    "\n",
    "\n",
    "users_df. \\\n",
    "    select('id', 'email', 'last_updated_ts'). \\\n",
    "    filter(col('last_updated_ts').between('2021-02-15 00:00:00', '2021-03-15 23:59:59')). \\\n",
    "    show()\n",
    "\n",
    "\n",
    "# SQL TYPE SYNTAX\n",
    "\n",
    "\n",
    "\n",
    "# users_df. \\\n",
    "#     select('id', 'email', 'last_updated_ts'). \\\n",
    "#     filter(\"last_updated_ts BETWEEN '2021-02-15 00:00:00' AND '2021-03-15 23:59:59'\"). \\\n",
    "#     show()\n",
    "\n"
   ]
  },
  {
   "cell_type": "code",
   "execution_count": 114,
   "id": "697cdaa3",
   "metadata": {},
   "outputs": [
    {
     "name": "stdout",
     "output_type": "stream",
     "text": [
      "+---+-----------+\n",
      "| id|amount_paid|\n",
      "+---+-----------+\n",
      "|  2|      900.0|\n",
      "|  3|     850.55|\n",
      "+---+-----------+\n",
      "\n",
      "+---+-----------+\n",
      "| id|amount_paid|\n",
      "+---+-----------+\n",
      "|  2|      900.0|\n",
      "|  3|     850.55|\n",
      "+---+-----------+\n",
      "\n"
     ]
    }
   ],
   "source": [
    "\n",
    "\n",
    "## Get all the users whose payment is in the range of 850 and 900.\n",
    "users_df.select(\"id\",\"amount_paid\").\\\n",
    "        filter( col(\"amount_paid\").between(850,900) ).show()\n",
    "\n",
    "\n",
    "users_df.select(\"id\",\"amount_paid\").\\\n",
    "        filter(\"amount_paid between 850 and 900\").show()"
   ]
  },
  {
   "cell_type": "code",
   "execution_count": null,
   "id": "ccf78de1",
   "metadata": {},
   "outputs": [],
   "source": []
  },
  {
   "cell_type": "code",
   "execution_count": null,
   "id": "cd9b3498",
   "metadata": {},
   "outputs": [],
   "source": []
  },
  {
   "cell_type": "markdown",
   "id": "d4747739",
   "metadata": {},
   "source": [
    "## Dealing with Null Values"
   ]
  },
  {
   "cell_type": "code",
   "execution_count": 115,
   "id": "d30677ec",
   "metadata": {},
   "outputs": [],
   "source": [
    "## Get all the users whose city is not null"
   ]
  },
  {
   "cell_type": "code",
   "execution_count": 120,
   "id": "9a9d7f57",
   "metadata": {},
   "outputs": [
    {
     "name": "stdout",
     "output_type": "stream",
     "text": [
      "+---+-------------+\n",
      "| id| current_city|\n",
      "+---+-------------+\n",
      "|  1|       Dallas|\n",
      "|  2|      Houston|\n",
      "|  3|             |\n",
      "|  4|San Fransisco|\n",
      "+---+-------------+\n",
      "\n",
      "+---+-------------+\n",
      "| id| current_city|\n",
      "+---+-------------+\n",
      "|  1|       Dallas|\n",
      "|  2|      Houston|\n",
      "|  3|             |\n",
      "|  4|San Fransisco|\n",
      "|  5|         null|\n",
      "+---+-------------+\n",
      "\n"
     ]
    }
   ],
   "source": [
    "from pyspark.sql.functions import col\n",
    "\n",
    "users_df.select(\"id\",\"current_city\").filter(col(\"current_city\").isNotNull()).show()\n",
    "\n",
    "# SQL TYPE SYNTAX\n",
    "\n",
    "users_df.select(\"id\",\"current_city\").filter(' \"current_city\" is NOT NULL').show()"
   ]
  },
  {
   "cell_type": "code",
   "execution_count": 123,
   "id": "cc103f18",
   "metadata": {},
   "outputs": [
    {
     "name": "stdout",
     "output_type": "stream",
     "text": [
      "+---+-------------+\n",
      "| id|customer_from|\n",
      "+---+-------------+\n",
      "|  4|         null|\n",
      "|  5|         null|\n",
      "+---+-------------+\n",
      "\n",
      "+---+-------------+\n",
      "| id|customer_from|\n",
      "+---+-------------+\n",
      "|  4|         null|\n",
      "|  5|         null|\n",
      "+---+-------------+\n",
      "\n"
     ]
    }
   ],
   "source": [
    "## Get all the users where customer_from is null\n",
    "\n",
    "users_df.select(\"id\",\"customer_from\").filter(col(\"customer_from\").isNull()).show()\n",
    "\n",
    "users_df.select(\"id\",\"customer_from\").filter(' customer_from is Null ').show()\n",
    "\n"
   ]
  },
  {
   "cell_type": "code",
   "execution_count": null,
   "id": "ea16d411",
   "metadata": {},
   "outputs": [],
   "source": []
  },
  {
   "cell_type": "code",
   "execution_count": null,
   "id": "c9cfb8af",
   "metadata": {},
   "outputs": [],
   "source": []
  },
  {
   "cell_type": "markdown",
   "id": "82efa295",
   "metadata": {},
   "source": [
    "## Overview of Boolean Operations"
   ]
  },
  {
   "cell_type": "code",
   "execution_count": 124,
   "id": "283fe321",
   "metadata": {},
   "outputs": [],
   "source": [
    "# OR\n",
    "# AND\n",
    "# Negation"
   ]
  },
  {
   "cell_type": "code",
   "execution_count": 125,
   "id": "d50baa5f",
   "metadata": {},
   "outputs": [
    {
     "data": {
      "text/plain": [
       "False"
      ]
     },
     "execution_count": 125,
     "metadata": {},
     "output_type": "execute_result"
    }
   ],
   "source": [
    "True or True\n",
    "\n",
    "\n",
    "True and True\n",
    "\n",
    "\n",
    "not True"
   ]
  },
  {
   "cell_type": "code",
   "execution_count": null,
   "id": "9c95c0ae",
   "metadata": {},
   "outputs": [],
   "source": []
  },
  {
   "cell_type": "markdown",
   "id": "dd60dca1",
   "metadata": {},
   "source": [
    "## Boolean OR on same column and In operator"
   ]
  },
  {
   "cell_type": "code",
   "execution_count": 126,
   "id": "06bc4834",
   "metadata": {},
   "outputs": [
    {
     "name": "stdout",
     "output_type": "stream",
     "text": [
      "+---+------------+\n",
      "| id|current_city|\n",
      "+---+------------+\n",
      "|  3|            |\n",
      "|  5|        null|\n",
      "+---+------------+\n",
      "\n"
     ]
    }
   ],
   "source": [
    "# Get list of users whose city is null or empty string (users with no cities associated)\n",
    "\n",
    "\n",
    "users_df. \\\n",
    "    select('id', 'current_city'). \\\n",
    "    filter((col('current_city') == '') | (col('current_city').isNull())). \\\n",
    "    show()\n",
    "\n",
    "\n",
    "\n",
    "# users_df. \\\n",
    "#     select('id', 'current_city'). \\\n",
    "#     filter(\"current_city = '' OR current_city IS NULL\"). \\\n",
    "#     show()\n"
   ]
  },
  {
   "cell_type": "code",
   "execution_count": 128,
   "id": "94d1c61a",
   "metadata": {},
   "outputs": [
    {
     "name": "stdout",
     "output_type": "stream",
     "text": [
      "+---+------------+\n",
      "| id|current_city|\n",
      "+---+------------+\n",
      "|  1|      Dallas|\n",
      "|  2|     Houston|\n",
      "+---+------------+\n",
      "\n",
      "+---+------------+\n",
      "| id|current_city|\n",
      "+---+------------+\n",
      "|  1|      Dallas|\n",
      "|  2|     Houston|\n",
      "+---+------------+\n",
      "\n"
     ]
    }
   ],
   "source": [
    "#  Get list of users whose city is either Houston or Dallas.\n",
    "\n",
    "users_df. \\\n",
    "    select('id', 'current_city'). \\\n",
    "    filter('current_city = \"Houston\" OR current_city = \"Dallas\" ').show()\n",
    "\n",
    "\n",
    "\n",
    "users_df. \\\n",
    "    select('id', 'current_city'). \\\n",
    "    filter((col('current_city') == 'Houston') | (col('current_city') == 'Dallas')). \\\n",
    "    show()\n"
   ]
  },
  {
   "cell_type": "code",
   "execution_count": 129,
   "id": "9b9b64b1",
   "metadata": {},
   "outputs": [
    {
     "name": "stdout",
     "output_type": "stream",
     "text": [
      "+---+------------+\n",
      "| id|current_city|\n",
      "+---+------------+\n",
      "|  1|      Dallas|\n",
      "|  2|     Houston|\n",
      "+---+------------+\n",
      "\n",
      "+---+------------+\n",
      "| id|current_city|\n",
      "+---+------------+\n",
      "|  1|      Dallas|\n",
      "|  2|     Houston|\n",
      "+---+------------+\n",
      "\n"
     ]
    }
   ],
   "source": [
    "\n",
    "# isin\n",
    "\n",
    "\n",
    "users_df. \\\n",
    "    select('id', 'current_city'). \\\n",
    "    filter(col('current_city').isin('Houston', 'Dallas')). \\\n",
    "    show()\n",
    "\n",
    "users_df. \\\n",
    "    select('id', 'current_city'). \\\n",
    "    filter(\"current_city IN ('Houston', 'Dallas')\"). \\\n",
    "    show()\n"
   ]
  },
  {
   "cell_type": "code",
   "execution_count": 132,
   "id": "1c796f01",
   "metadata": {},
   "outputs": [
    {
     "name": "stdout",
     "output_type": "stream",
     "text": [
      "+---+------------+\n",
      "| id|current_city|\n",
      "+---+------------+\n",
      "|  1|      Dallas|\n",
      "|  2|     Houston|\n",
      "|  3|            |\n",
      "+---+------------+\n",
      "\n",
      "+---+------------+\n",
      "| id|current_city|\n",
      "+---+------------+\n",
      "|  1|      Dallas|\n",
      "|  2|     Houston|\n",
      "|  3|            |\n",
      "+---+------------+\n",
      "\n"
     ]
    }
   ],
   "source": [
    "# Get list of users whose city is either Houston or Dallas or empty string.\n",
    "\n",
    "users_df. \\\n",
    "    select('id', 'current_city'). \\\n",
    "    filter(col('current_city').isin('Houston', 'Dallas',\"\")). \\\n",
    "    show()\n",
    "\n",
    "\n",
    "users_df. \\\n",
    "    select('id', 'current_city'). \\\n",
    "    filter(\"current_city IN ('Houston', 'Dallas', '')\"). \\\n",
    "    show()"
   ]
  },
  {
   "cell_type": "code",
   "execution_count": 136,
   "id": "cfdf41df",
   "metadata": {},
   "outputs": [
    {
     "name": "stdout",
     "output_type": "stream",
     "text": [
      "+---+------------+\n",
      "| id|current_city|\n",
      "+---+------------+\n",
      "|  1|      Dallas|\n",
      "|  2|     Houston|\n",
      "|  3|            |\n",
      "+---+------------+\n",
      "\n",
      "+---+------------+\n",
      "| id|current_city|\n",
      "+---+------------+\n",
      "|  1|      Dallas|\n",
      "|  2|     Houston|\n",
      "|  3|            |\n",
      "|  5|        null|\n",
      "+---+------------+\n",
      "\n"
     ]
    }
   ],
   "source": [
    "# Get list of users whose city is either Houston or Dallas or empty string or null.\n",
    "\n",
    "\n",
    "\n",
    "# Passing null will not be effective\n",
    "users_df. \\\n",
    "    select('id', 'current_city'). \\\n",
    "    filter(\"current_city IN ('Houston', 'Dallas', '', NULL)\"). \\\n",
    "    show()\n",
    "     \n",
    "# right one for above  \n",
    "\n",
    "# users_df. \\\n",
    "#     select('id', 'current_city'). \\\n",
    "#     filter(\"current_city IN ('Houston', 'Dallas', '') OR current_city IS NULL\"). \\\n",
    "#     show()\n",
    "\n",
    "# Boolean OR including null check\n",
    "\n",
    "users_df. \\\n",
    "    select('id', 'current_city'). \\\n",
    "    filter((col('current_city').isin('Houston', 'Dallas', '')) | (col('current_city').isNull())). \\\n",
    "    show()"
   ]
  },
  {
   "cell_type": "code",
   "execution_count": null,
   "id": "b1bbbb05",
   "metadata": {},
   "outputs": [],
   "source": []
  },
  {
   "cell_type": "markdown",
   "id": "850db476",
   "metadata": {},
   "source": [
    "#  Filtering with Greater Than and Less Than on "
   ]
  },
  {
   "cell_type": "code",
   "execution_count": 139,
   "id": "fa981dcf",
   "metadata": {},
   "outputs": [],
   "source": [
    "\n",
    "\n",
    "# >\n",
    "\n",
    "# <\n",
    "\n",
    "# >= (equivalent to boolean with col1 > val1 or cal1 = val1)\n",
    "\n",
    "# <= (equivalent to boolean with col1 < val1 or cal1 = val1)\n"
   ]
  },
  {
   "cell_type": "code",
   "execution_count": 140,
   "id": "a5086fdb",
   "metadata": {},
   "outputs": [],
   "source": [
    "from pyspark.sql.functions import col, isnan\n",
    "\n",
    "#  Get Customers who paid greater than 900"
   ]
  },
  {
   "cell_type": "code",
   "execution_count": 143,
   "id": "1ec7ddee",
   "metadata": {},
   "outputs": [
    {
     "name": "stdout",
     "output_type": "stream",
     "text": [
      "+---+-----------+\n",
      "| id|amount_paid|\n",
      "+---+-----------+\n",
      "|  1|    1000.55|\n",
      "|  4|        NaN|\n",
      "|  5|        NaN|\n",
      "+---+-----------+\n",
      "\n",
      "+---+-----------+\n",
      "| id|amount_paid|\n",
      "+---+-----------+\n",
      "|  1|    1000.55|\n",
      "+---+-----------+\n",
      "\n"
     ]
    }
   ],
   "source": [
    "\n",
    "\n",
    "users_df. \\\n",
    "    filter((col('amount_paid') > 900) ). \\\n",
    "    select('id', 'amount_paid'). \\\n",
    "    show()\n",
    "\n",
    "# Non-SQL syntax syntax\n",
    "\n",
    "# isnan is used for both sql, non-sql syntaxes\n",
    "\n",
    "users_df. \\\n",
    "    filter((col('amount_paid') > 900) & (isnan(col('amount_paid')) == False )). \\\n",
    "    select('id', 'amount_paid'). \\\n",
    "    show()\n"
   ]
  },
  {
   "cell_type": "code",
   "execution_count": 159,
   "id": "bb536b44",
   "metadata": {},
   "outputs": [
    {
     "name": "stdout",
     "output_type": "stream",
     "text": [
      "+---+-----------+\n",
      "| id|amount_paid|\n",
      "+---+-----------+\n",
      "|  3|     850.55|\n",
      "+---+-----------+\n",
      "\n",
      "+---+-----------+\n",
      "| id|amount_paid|\n",
      "+---+-----------+\n",
      "|  3|     850.55|\n",
      "+---+-----------+\n",
      "\n"
     ]
    }
   ],
   "source": [
    "#  Get Customers who paid less than 900\n",
    "\n",
    "users_df.\\\n",
    "    filter(\n",
    "    (col(\"amount_paid\") < 900 ) & ( isnan(col(\"amount_paid\")) ==False ) ).select(\"id\",\"amount_paid\").show()\n",
    "\n",
    "\n",
    "# sql syntax\n",
    "\n",
    "users_df.\\\n",
    "    filter(' amount_paid < 900 AND isnan(\"amount_paid\") is False ').select(\"id\",\"amount_paid\").show()"
   ]
  },
  {
   "cell_type": "code",
   "execution_count": 164,
   "id": "0372c589",
   "metadata": {},
   "outputs": [
    {
     "name": "stdout",
     "output_type": "stream",
     "text": [
      "+---+-------------+\n",
      "| id|customer_from|\n",
      "+---+-------------+\n",
      "|  2|   2021-02-14|\n",
      "+---+-------------+\n",
      "\n",
      "+---+-------------+\n",
      "| id|customer_from|\n",
      "+---+-------------+\n",
      "|  2|   2021-02-14|\n",
      "+---+-------------+\n",
      "\n",
      "+---+-------------+\n",
      "| id|customer_from|\n",
      "+---+-------------+\n",
      "|  2|   2021-02-14|\n",
      "|  3|   2021-01-21|\n",
      "+---+-------------+\n",
      "\n"
     ]
    }
   ],
   "source": [
    "# Get the users who became customers after 2021-01-21\n",
    "\n",
    "## Non-sql\n",
    "\n",
    "\n",
    "users_df. \\\n",
    "    select('id', 'customer_from'). \\\n",
    "    filter(col('customer_from') > '2021-01-21'). \\\n",
    "    show()\n",
    "\n",
    "## sql based syntax\n",
    "\n",
    "\n",
    "users_df. \\\n",
    "    select('id', 'customer_from'). \\\n",
    "    filter('customer_from > \"2021-01-21\" ').show()\n",
    "\n",
    "\n",
    "# users_df. \\\n",
    "#     filter(\"customer_from >= '2021-01-20' AND customer_from  <= '2021-02-15'\"). \\\n",
    "#     select('id', 'customer_from'). \\\n",
    "#     show()\n",
    "\n",
    "# sql type for above one\n",
    "\n",
    "users_df. \\\n",
    "    filter(\"customer_from between '2021-01-20' AND '2021-02-15' \"). \\\n",
    "    select('id', 'customer_from'). \\\n",
    "    show()"
   ]
  },
  {
   "cell_type": "code",
   "execution_count": null,
   "id": "068be87a",
   "metadata": {},
   "outputs": [],
   "source": []
  },
  {
   "cell_type": "code",
   "execution_count": 168,
   "id": "c18aa578",
   "metadata": {},
   "outputs": [
    {
     "name": "stdout",
     "output_type": "stream",
     "text": [
      "root\n",
      " |-- id: long (nullable = true)\n",
      " |-- first_name: string (nullable = true)\n",
      " |-- last_name: string (nullable = true)\n",
      " |-- email: string (nullable = true)\n",
      " |-- gender: string (nullable = true)\n",
      " |-- current_city: string (nullable = true)\n",
      " |-- phone_numbers: struct (nullable = true)\n",
      " |    |-- mobile: string (nullable = true)\n",
      " |    |-- home: string (nullable = true)\n",
      " |-- courses: array (nullable = true)\n",
      " |    |-- element: long (containsNull = true)\n",
      " |-- is_customer: boolean (nullable = true)\n",
      " |-- amount_paid: double (nullable = true)\n",
      " |-- customer_from: date (nullable = true)\n",
      " |-- last_updated_ts: timestamp (nullable = true)\n",
      "\n"
     ]
    }
   ],
   "source": [
    "users_df.printSchema()"
   ]
  },
  {
   "cell_type": "markdown",
   "id": "4cf7f864",
   "metadata": {},
   "source": [
    "## Boolean OR"
   ]
  },
  {
   "cell_type": "code",
   "execution_count": 169,
   "id": "d47c9b98",
   "metadata": {},
   "outputs": [
    {
     "name": "stdout",
     "output_type": "stream",
     "text": [
      "+---+--------------------+-----------+-------------------+\n",
      "| id|               email|is_customer|    last_updated_ts|\n",
      "+---+--------------------+-----------+-------------------+\n",
      "|  1|cvandenoord0@etsy...|       true|2021-02-10 01:15:00|\n",
      "|  2|nbrewitt1@dailyma...|       true|2021-02-18 03:33:00|\n",
      "|  4|  amaddocks3@home.pl|      false|2021-04-10 17:45:30|\n",
      "|  5|krome4@shutterfly...|      false|2021-04-02 00:55:18|\n",
      "+---+--------------------+-----------+-------------------+\n",
      "\n",
      "+---+--------------------+-----------+-------------------+\n",
      "| id|               email|is_customer|    last_updated_ts|\n",
      "+---+--------------------+-----------+-------------------+\n",
      "|  1|cvandenoord0@etsy...|       true|2021-02-10 01:15:00|\n",
      "|  2|nbrewitt1@dailyma...|       true|2021-02-18 03:33:00|\n",
      "|  4|  amaddocks3@home.pl|      false|2021-04-10 17:45:30|\n",
      "|  5|krome4@shutterfly...|      false|2021-04-02 00:55:18|\n",
      "+---+--------------------+-----------+-------------------+\n",
      "\n"
     ]
    },
    {
     "name": "stderr",
     "output_type": "stream",
     "text": [
      "23/07/01 20:45:52 WARN HeartbeatReceiver: Removing executor driver with no recent heartbeats: 7179209 ms exceeds timeout 120000 ms\n",
      "23/07/01 20:45:52 WARN SparkContext: Killing executors is not supported by current scheduler.\n"
     ]
    }
   ],
   "source": [
    "\n",
    "# Get id and email of users\n",
    "#            who are not customers or customers whose last updated time is before 2021-03-01.\n",
    "\n",
    "users_df. \\\n",
    "    filter((col('is_customer') == False) | (col('last_updated_ts') < '2021-03-01')). \\\n",
    "    select('id', 'email', 'is_customer', 'last_updated_ts'). \\\n",
    "    show()\n",
    "     \n",
    "\n",
    "## SQL type syntax\n",
    "    \n",
    "\n",
    "users_df. \\\n",
    "    filter(\"is_customer = false OR last_updated_ts < '2021-03-01'\"). \\\n",
    "    select('id', 'email', 'is_customer', 'last_updated_ts'). \\\n",
    "    show()"
   ]
  },
  {
   "cell_type": "code",
   "execution_count": null,
   "id": "e1aba297",
   "metadata": {},
   "outputs": [],
   "source": []
  }
 ],
 "metadata": {
  "kernelspec": {
   "display_name": "Python 3 (ipykernel)",
   "language": "python",
   "name": "python3"
  },
  "language_info": {
   "codemirror_mode": {
    "name": "ipython",
    "version": 3
   },
   "file_extension": ".py",
   "mimetype": "text/x-python",
   "name": "python",
   "nbconvert_exporter": "python",
   "pygments_lexer": "ipython3",
   "version": "3.10.8"
  }
 },
 "nbformat": 4,
 "nbformat_minor": 5
}
